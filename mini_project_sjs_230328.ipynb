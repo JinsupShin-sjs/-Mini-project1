{
 "cells": [
  {
   "cell_type": "code",
   "execution_count": 1,
   "metadata": {},
   "outputs": [],
   "source": [
    "import pandas as pd\n",
    "import numpy as np\n",
    "import seaborn as sns  "
   ]
  },
  {
   "cell_type": "code",
   "execution_count": 2,
   "metadata": {},
   "outputs": [],
   "source": [
    "#한글폰트 설치\n",
    "from matplotlib import font_manager, rc\n",
    "font_path = \"C:/Windows/Fonts/MALGUN.TTF\"\n",
    "font = font_manager.FontProperties(fname=font_path).get_name()\n",
    "rc('font', family=font)"
   ]
  },
  {
   "cell_type": "code",
   "execution_count": 3,
   "metadata": {},
   "outputs": [
    {
     "data": {
      "text/html": [
       "<div>\n",
       "<style scoped>\n",
       "    .dataframe tbody tr th:only-of-type {\n",
       "        vertical-align: middle;\n",
       "    }\n",
       "\n",
       "    .dataframe tbody tr th {\n",
       "        vertical-align: top;\n",
       "    }\n",
       "\n",
       "    .dataframe thead th {\n",
       "        text-align: right;\n",
       "    }\n",
       "</style>\n",
       "<table border=\"1\" class=\"dataframe\">\n",
       "  <thead>\n",
       "    <tr style=\"text-align: right;\">\n",
       "      <th></th>\n",
       "      <th>0</th>\n",
       "      <th>1</th>\n",
       "      <th>2</th>\n",
       "    </tr>\n",
       "  </thead>\n",
       "  <tbody>\n",
       "    <tr>\n",
       "      <th>Unnamed: 0</th>\n",
       "      <td>0</td>\n",
       "      <td>1</td>\n",
       "      <td>2</td>\n",
       "    </tr>\n",
       "    <tr>\n",
       "      <th>전용면적</th>\n",
       "      <td>59.97</td>\n",
       "      <td>59.34</td>\n",
       "      <td>84.99</td>\n",
       "    </tr>\n",
       "    <tr>\n",
       "      <th>거래금액</th>\n",
       "      <td>21100</td>\n",
       "      <td>22000</td>\n",
       "      <td>31500</td>\n",
       "    </tr>\n",
       "    <tr>\n",
       "      <th>층</th>\n",
       "      <td>8</td>\n",
       "      <td>8</td>\n",
       "      <td>10</td>\n",
       "    </tr>\n",
       "    <tr>\n",
       "      <th>건축년도</th>\n",
       "      <td>2006</td>\n",
       "      <td>1996</td>\n",
       "      <td>2000</td>\n",
       "    </tr>\n",
       "    <tr>\n",
       "      <th>계약년월일</th>\n",
       "      <td>2007-01-01</td>\n",
       "      <td>2007-01-01</td>\n",
       "      <td>2007-01-01</td>\n",
       "    </tr>\n",
       "    <tr>\n",
       "      <th>면적당가격</th>\n",
       "      <td>351.842588</td>\n",
       "      <td>370.74486</td>\n",
       "      <td>370.631839</td>\n",
       "    </tr>\n",
       "    <tr>\n",
       "      <th>구</th>\n",
       "      <td>강동구</td>\n",
       "      <td>노원구</td>\n",
       "      <td>성북구</td>\n",
       "    </tr>\n",
       "    <tr>\n",
       "      <th>동</th>\n",
       "      <td>길동</td>\n",
       "      <td>중계동</td>\n",
       "      <td>정릉동</td>\n",
       "    </tr>\n",
       "    <tr>\n",
       "      <th>계약년</th>\n",
       "      <td>2007</td>\n",
       "      <td>2007</td>\n",
       "      <td>2007</td>\n",
       "    </tr>\n",
       "    <tr>\n",
       "      <th>계약월</th>\n",
       "      <td>1</td>\n",
       "      <td>1</td>\n",
       "      <td>1</td>\n",
       "    </tr>\n",
       "    <tr>\n",
       "      <th>계약일</th>\n",
       "      <td>1</td>\n",
       "      <td>1</td>\n",
       "      <td>1</td>\n",
       "    </tr>\n",
       "    <tr>\n",
       "      <th>년월</th>\n",
       "      <td>200701</td>\n",
       "      <td>200701</td>\n",
       "      <td>200701</td>\n",
       "    </tr>\n",
       "    <tr>\n",
       "      <th>일자</th>\n",
       "      <td>2007/01</td>\n",
       "      <td>2007/01</td>\n",
       "      <td>2007/01</td>\n",
       "    </tr>\n",
       "    <tr>\n",
       "      <th>주택담보대출(연%)</th>\n",
       "      <td>6.11</td>\n",
       "      <td>6.11</td>\n",
       "      <td>6.11</td>\n",
       "    </tr>\n",
       "    <tr>\n",
       "      <th>미국달러</th>\n",
       "      <td>940.9</td>\n",
       "      <td>940.9</td>\n",
       "      <td>940.9</td>\n",
       "    </tr>\n",
       "    <tr>\n",
       "      <th>일본엔</th>\n",
       "      <td>7.731</td>\n",
       "      <td>7.731</td>\n",
       "      <td>7.731</td>\n",
       "    </tr>\n",
       "    <tr>\n",
       "      <th>유로</th>\n",
       "      <td>1220.07</td>\n",
       "      <td>1220.07</td>\n",
       "      <td>1220.07</td>\n",
       "    </tr>\n",
       "    <tr>\n",
       "      <th>소비자물가지수</th>\n",
       "      <td>76.496</td>\n",
       "      <td>76.496</td>\n",
       "      <td>76.496</td>\n",
       "    </tr>\n",
       "    <tr>\n",
       "      <th>소비자물가지수(전월 대비 증감률)</th>\n",
       "      <td>0.2</td>\n",
       "      <td>0.2</td>\n",
       "      <td>0.2</td>\n",
       "    </tr>\n",
       "    <tr>\n",
       "      <th>KOSPI_종가</th>\n",
       "      <td>1360.23</td>\n",
       "      <td>1360.23</td>\n",
       "      <td>1360.23</td>\n",
       "    </tr>\n",
       "    <tr>\n",
       "      <th>KOSDAQ_종가</th>\n",
       "      <td>576.37</td>\n",
       "      <td>576.37</td>\n",
       "      <td>576.37</td>\n",
       "    </tr>\n",
       "    <tr>\n",
       "      <th>무담보콜금리(1일)</th>\n",
       "      <td>4.63</td>\n",
       "      <td>4.63</td>\n",
       "      <td>4.63</td>\n",
       "    </tr>\n",
       "    <tr>\n",
       "      <th>KORIBOR(3개월)</th>\n",
       "      <td>4.91</td>\n",
       "      <td>4.91</td>\n",
       "      <td>4.91</td>\n",
       "    </tr>\n",
       "    <tr>\n",
       "      <th>CD(91일)</th>\n",
       "      <td>4.92</td>\n",
       "      <td>4.92</td>\n",
       "      <td>4.92</td>\n",
       "    </tr>\n",
       "    <tr>\n",
       "      <th>국고채(1년)</th>\n",
       "      <td>4.98</td>\n",
       "      <td>4.98</td>\n",
       "      <td>4.98</td>\n",
       "    </tr>\n",
       "    <tr>\n",
       "      <th>국고채(10년)</th>\n",
       "      <td>5.04</td>\n",
       "      <td>5.04</td>\n",
       "      <td>5.04</td>\n",
       "    </tr>\n",
       "  </tbody>\n",
       "</table>\n",
       "</div>"
      ],
      "text/plain": [
       "                             0           1           2\n",
       "Unnamed: 0                   0           1           2\n",
       "전용면적                     59.97       59.34       84.99\n",
       "거래금액                     21100       22000       31500\n",
       "층                            8           8          10\n",
       "건축년도                      2006        1996        2000\n",
       "계약년월일               2007-01-01  2007-01-01  2007-01-01\n",
       "면적당가격               351.842588   370.74486  370.631839\n",
       "구                          강동구         노원구         성북구\n",
       "동                           길동         중계동         정릉동\n",
       "계약년                       2007        2007        2007\n",
       "계약월                          1           1           1\n",
       "계약일                          1           1           1\n",
       "년월                      200701      200701      200701\n",
       "일자                     2007/01     2007/01     2007/01\n",
       "주택담보대출(연%)                6.11        6.11        6.11\n",
       "미국달러                     940.9       940.9       940.9\n",
       "일본엔                      7.731       7.731       7.731\n",
       "유로                     1220.07     1220.07     1220.07\n",
       "소비자물가지수                 76.496      76.496      76.496\n",
       "소비자물가지수(전월 대비 증감률)         0.2         0.2         0.2\n",
       "  KOSPI_종가             1360.23     1360.23     1360.23\n",
       "  KOSDAQ_종가             576.37      576.37      576.37\n",
       "  무담보콜금리(1일)              4.63        4.63        4.63\n",
       "KORIBOR(3개월)              4.91        4.91        4.91\n",
       "CD(91일)                   4.92        4.92        4.92\n",
       "국고채(1년)                   4.98        4.98        4.98\n",
       "국고채(10년)                  5.04        5.04        5.04"
      ]
     },
     "execution_count": 3,
     "metadata": {},
     "output_type": "execute_result"
    }
   ],
   "source": [
    "df = pd.read_csv('c:/프로젝트/Data/finaldata.csv')\n",
    "df.head(3).transpose() "
   ]
  },
  {
   "cell_type": "code",
   "execution_count": 4,
   "metadata": {},
   "outputs": [],
   "source": [
    "# 불필요한 열 삭제\n",
    "df.drop(df.iloc[:,[0]], axis=1, inplace=True)"
   ]
  },
  {
   "cell_type": "code",
   "execution_count": 5,
   "metadata": {},
   "outputs": [
    {
     "data": {
      "text/plain": [
       "Index(['전용면적', '거래금액', '층', '건축년도', '계약년월일', '면적당가격', '구', '동', '계약년', '계약월',\n",
       "       '계약일', '년월', '일자', '주택담보대출(연%)', '미국달러', '일본엔', '유로', '소비자물가지수',\n",
       "       '소비자물가지수(전월 대비 증감률)', 'KOSPI_종가', 'KOSDAQ_종가', '무담보콜금리(1일)',\n",
       "       'KORIBOR(3개월)', 'CD(91일)', '국고채(1년)', '국고채(10년)'],\n",
       "      dtype='object')"
      ]
     },
     "execution_count": 5,
     "metadata": {},
     "output_type": "execute_result"
    }
   ],
   "source": [
    "# 컬럼 공백 제거\n",
    "df.columns=df.columns.str.lstrip()\n",
    "df.columns"
   ]
  },
  {
   "cell_type": "code",
   "execution_count": 6,
   "metadata": {},
   "outputs": [],
   "source": [
    "# 컬럼명 변경\n",
    "df.rename(columns= {\n",
    "    '주택담보대출(연%)':'주택담보대출금리', '무담보콜금리(1일)':'콜금리', \n",
    "    'KORIBOR(3개월)':'KORIBOR_3개월','CD(91일)' : 'CD_91일', '국고채(1년)':'국고채_1년', \n",
    "    '국고채(10년)':'국고채_10년'\n",
    "    }, inplace=True) "
   ]
  },
  {
   "cell_type": "code",
   "execution_count": 7,
   "metadata": {},
   "outputs": [
    {
     "name": "stderr",
     "output_type": "stream",
     "text": [
      "c:\\Anaconda3\\lib\\site-packages\\IPython\\core\\pylabtools.py:151: UserWarning: Glyph 8722 (\\N{MINUS SIGN}) missing from current font.\n",
      "  fig.canvas.print_figure(bytes_io, **kw)\n"
     ]
    },
    {
     "data": {
      "image/png": "[encoded data removed]",
      "text/plain": [
       "<Figure size 2000x1500 with 25 Axes>"
      ]
     },
     "metadata": {},
     "output_type": "display_data"
    }
   ],
   "source": [
    "%matplotlib inline\n",
    "import matplotlib.pyplot as plt\n",
    "df.hist(bins=100, figsize=(20,15))\n",
    "plt.show() \n"
   ]
  },
  {
   "cell_type": "code",
   "execution_count": 8,
   "metadata": {},
   "outputs": [
    {
     "data": {
      "text/html": [
       "<div>\n",
       "<style scoped>\n",
       "    .dataframe tbody tr th:only-of-type {\n",
       "        vertical-align: middle;\n",
       "    }\n",
       "\n",
       "    .dataframe tbody tr th {\n",
       "        vertical-align: top;\n",
       "    }\n",
       "\n",
       "    .dataframe thead th {\n",
       "        text-align: right;\n",
       "    }\n",
       "</style>\n",
       "<table border=\"1\" class=\"dataframe\">\n",
       "  <thead>\n",
       "    <tr style=\"text-align: right;\">\n",
       "      <th></th>\n",
       "      <th>전용면적</th>\n",
       "      <th>거래금액</th>\n",
       "      <th>층</th>\n",
       "      <th>건축년도</th>\n",
       "      <th>면적당가격</th>\n",
       "      <th>계약년</th>\n",
       "      <th>계약월</th>\n",
       "      <th>계약일</th>\n",
       "      <th>년월</th>\n",
       "      <th>주택담보대출금리</th>\n",
       "      <th>...</th>\n",
       "      <th>유로</th>\n",
       "      <th>소비자물가지수</th>\n",
       "      <th>소비자물가지수(전월 대비 증감률)</th>\n",
       "      <th>KOSPI_종가</th>\n",
       "      <th>KOSDAQ_종가</th>\n",
       "      <th>콜금리</th>\n",
       "      <th>KORIBOR_3개월</th>\n",
       "      <th>CD_91일</th>\n",
       "      <th>국고채_1년</th>\n",
       "      <th>국고채_10년</th>\n",
       "    </tr>\n",
       "  </thead>\n",
       "  <tbody>\n",
       "    <tr>\n",
       "      <th>전용면적</th>\n",
       "      <td>1.000000</td>\n",
       "      <td>0.584180</td>\n",
       "      <td>0.104628</td>\n",
       "      <td>0.073384</td>\n",
       "      <td>0.042055</td>\n",
       "      <td>0.028232</td>\n",
       "      <td>0.017564</td>\n",
       "      <td>0.003270</td>\n",
       "      <td>0.028368</td>\n",
       "      <td>-0.047998</td>\n",
       "      <td>...</td>\n",
       "      <td>-0.004060</td>\n",
       "      <td>0.037240</td>\n",
       "      <td>-0.019575</td>\n",
       "      <td>0.007617</td>\n",
       "      <td>-0.014844</td>\n",
       "      <td>-0.053861</td>\n",
       "      <td>-0.054264</td>\n",
       "      <td>-0.054424</td>\n",
       "      <td>-0.053894</td>\n",
       "      <td>-0.042993</td>\n",
       "    </tr>\n",
       "    <tr>\n",
       "      <th>거래금액</th>\n",
       "      <td>0.584180</td>\n",
       "      <td>1.000000</td>\n",
       "      <td>0.151511</td>\n",
       "      <td>0.046550</td>\n",
       "      <td>0.766358</td>\n",
       "      <td>0.328837</td>\n",
       "      <td>0.055616</td>\n",
       "      <td>0.009584</td>\n",
       "      <td>0.329202</td>\n",
       "      <td>-0.234658</td>\n",
       "      <td>...</td>\n",
       "      <td>-0.086759</td>\n",
       "      <td>0.296208</td>\n",
       "      <td>-0.019626</td>\n",
       "      <td>0.278576</td>\n",
       "      <td>0.250240</td>\n",
       "      <td>-0.276981</td>\n",
       "      <td>-0.268471</td>\n",
       "      <td>-0.270956</td>\n",
       "      <td>-0.271088</td>\n",
       "      <td>-0.240086</td>\n",
       "    </tr>\n",
       "    <tr>\n",
       "      <th>층</th>\n",
       "      <td>0.104628</td>\n",
       "      <td>0.151511</td>\n",
       "      <td>1.000000</td>\n",
       "      <td>0.187528</td>\n",
       "      <td>0.108048</td>\n",
       "      <td>0.044992</td>\n",
       "      <td>0.010476</td>\n",
       "      <td>0.001807</td>\n",
       "      <td>0.045065</td>\n",
       "      <td>-0.041686</td>\n",
       "      <td>...</td>\n",
       "      <td>-0.020597</td>\n",
       "      <td>0.046195</td>\n",
       "      <td>-0.011131</td>\n",
       "      <td>0.033875</td>\n",
       "      <td>0.020553</td>\n",
       "      <td>-0.039316</td>\n",
       "      <td>-0.040830</td>\n",
       "      <td>-0.040923</td>\n",
       "      <td>-0.041675</td>\n",
       "      <td>-0.041006</td>\n",
       "    </tr>\n",
       "    <tr>\n",
       "      <th>건축년도</th>\n",
       "      <td>0.073384</td>\n",
       "      <td>0.046550</td>\n",
       "      <td>0.187528</td>\n",
       "      <td>1.000000</td>\n",
       "      <td>0.041924</td>\n",
       "      <td>0.156863</td>\n",
       "      <td>0.022824</td>\n",
       "      <td>0.003285</td>\n",
       "      <td>0.157007</td>\n",
       "      <td>-0.122363</td>\n",
       "      <td>...</td>\n",
       "      <td>-0.089408</td>\n",
       "      <td>0.154000</td>\n",
       "      <td>-0.018901</td>\n",
       "      <td>0.135024</td>\n",
       "      <td>0.109043</td>\n",
       "      <td>-0.107188</td>\n",
       "      <td>-0.111637</td>\n",
       "      <td>-0.111984</td>\n",
       "      <td>-0.115472</td>\n",
       "      <td>-0.125770</td>\n",
       "    </tr>\n",
       "    <tr>\n",
       "      <th>면적당가격</th>\n",
       "      <td>0.042055</td>\n",
       "      <td>0.766358</td>\n",
       "      <td>0.108048</td>\n",
       "      <td>0.041924</td>\n",
       "      <td>1.000000</td>\n",
       "      <td>0.442193</td>\n",
       "      <td>0.063748</td>\n",
       "      <td>0.011409</td>\n",
       "      <td>0.442594</td>\n",
       "      <td>-0.303471</td>\n",
       "      <td>...</td>\n",
       "      <td>-0.117942</td>\n",
       "      <td>0.394555</td>\n",
       "      <td>-0.019270</td>\n",
       "      <td>0.382759</td>\n",
       "      <td>0.350334</td>\n",
       "      <td>-0.357040</td>\n",
       "      <td>-0.345466</td>\n",
       "      <td>-0.348573</td>\n",
       "      <td>-0.349898</td>\n",
       "      <td>-0.312418</td>\n",
       "    </tr>\n",
       "    <tr>\n",
       "      <th>계약년</th>\n",
       "      <td>0.028232</td>\n",
       "      <td>0.328837</td>\n",
       "      <td>0.044992</td>\n",
       "      <td>0.156863</td>\n",
       "      <td>0.442193</td>\n",
       "      <td>1.000000</td>\n",
       "      <td>0.028645</td>\n",
       "      <td>0.008375</td>\n",
       "      <td>0.999967</td>\n",
       "      <td>-0.885517</td>\n",
       "      <td>...</td>\n",
       "      <td>-0.570659</td>\n",
       "      <td>0.970934</td>\n",
       "      <td>-0.179084</td>\n",
       "      <td>0.748738</td>\n",
       "      <td>0.609009</td>\n",
       "      <td>-0.823078</td>\n",
       "      <td>-0.851232</td>\n",
       "      <td>-0.851147</td>\n",
       "      <td>-0.875257</td>\n",
       "      <td>-0.896074</td>\n",
       "    </tr>\n",
       "    <tr>\n",
       "      <th>계약월</th>\n",
       "      <td>0.017564</td>\n",
       "      <td>0.055616</td>\n",
       "      <td>0.010476</td>\n",
       "      <td>0.022824</td>\n",
       "      <td>0.063748</td>\n",
       "      <td>0.028645</td>\n",
       "      <td>1.000000</td>\n",
       "      <td>-0.009210</td>\n",
       "      <td>0.036772</td>\n",
       "      <td>-0.096834</td>\n",
       "      <td>...</td>\n",
       "      <td>-0.030443</td>\n",
       "      <td>0.081226</td>\n",
       "      <td>-0.320154</td>\n",
       "      <td>0.076375</td>\n",
       "      <td>0.007416</td>\n",
       "      <td>-0.089492</td>\n",
       "      <td>-0.083366</td>\n",
       "      <td>-0.090138</td>\n",
       "      <td>-0.069000</td>\n",
       "      <td>-0.089359</td>\n",
       "    </tr>\n",
       "    <tr>\n",
       "      <th>계약일</th>\n",
       "      <td>0.003270</td>\n",
       "      <td>0.009584</td>\n",
       "      <td>0.001807</td>\n",
       "      <td>0.003285</td>\n",
       "      <td>0.011409</td>\n",
       "      <td>0.008375</td>\n",
       "      <td>-0.009210</td>\n",
       "      <td>1.000000</td>\n",
       "      <td>0.008298</td>\n",
       "      <td>-0.006911</td>\n",
       "      <td>...</td>\n",
       "      <td>-0.003211</td>\n",
       "      <td>0.007430</td>\n",
       "      <td>0.015206</td>\n",
       "      <td>0.004257</td>\n",
       "      <td>-0.003973</td>\n",
       "      <td>-0.007567</td>\n",
       "      <td>-0.008383</td>\n",
       "      <td>-0.008436</td>\n",
       "      <td>-0.008456</td>\n",
       "      <td>-0.006645</td>\n",
       "    </tr>\n",
       "    <tr>\n",
       "      <th>년월</th>\n",
       "      <td>0.028368</td>\n",
       "      <td>0.329202</td>\n",
       "      <td>0.045065</td>\n",
       "      <td>0.157007</td>\n",
       "      <td>0.442594</td>\n",
       "      <td>0.999967</td>\n",
       "      <td>0.036772</td>\n",
       "      <td>0.008298</td>\n",
       "      <td>1.000000</td>\n",
       "      <td>-0.886069</td>\n",
       "      <td>...</td>\n",
       "      <td>-0.570755</td>\n",
       "      <td>0.971337</td>\n",
       "      <td>-0.181641</td>\n",
       "      <td>0.749160</td>\n",
       "      <td>0.608908</td>\n",
       "      <td>-0.823587</td>\n",
       "      <td>-0.851684</td>\n",
       "      <td>-0.851654</td>\n",
       "      <td>-0.875585</td>\n",
       "      <td>-0.896563</td>\n",
       "    </tr>\n",
       "    <tr>\n",
       "      <th>주택담보대출금리</th>\n",
       "      <td>-0.047998</td>\n",
       "      <td>-0.234658</td>\n",
       "      <td>-0.041686</td>\n",
       "      <td>-0.122363</td>\n",
       "      <td>-0.303471</td>\n",
       "      <td>-0.885517</td>\n",
       "      <td>-0.096834</td>\n",
       "      <td>-0.006911</td>\n",
       "      <td>-0.886069</td>\n",
       "      <td>1.000000</td>\n",
       "      <td>...</td>\n",
       "      <td>0.615641</td>\n",
       "      <td>-0.898740</td>\n",
       "      <td>0.309657</td>\n",
       "      <td>-0.574863</td>\n",
       "      <td>-0.401317</td>\n",
       "      <td>0.868822</td>\n",
       "      <td>0.921548</td>\n",
       "      <td>0.917203</td>\n",
       "      <td>0.947333</td>\n",
       "      <td>0.961655</td>\n",
       "    </tr>\n",
       "    <tr>\n",
       "      <th>미국달러</th>\n",
       "      <td>0.035210</td>\n",
       "      <td>0.156960</td>\n",
       "      <td>0.018425</td>\n",
       "      <td>0.029419</td>\n",
       "      <td>0.201177</td>\n",
       "      <td>0.305464</td>\n",
       "      <td>0.019176</td>\n",
       "      <td>0.002752</td>\n",
       "      <td>0.305538</td>\n",
       "      <td>-0.301409</td>\n",
       "      <td>...</td>\n",
       "      <td>0.359590</td>\n",
       "      <td>0.322814</td>\n",
       "      <td>-0.115461</td>\n",
       "      <td>-0.123351</td>\n",
       "      <td>-0.183999</td>\n",
       "      <td>-0.563199</td>\n",
       "      <td>-0.499134</td>\n",
       "      <td>-0.497881</td>\n",
       "      <td>-0.494042</td>\n",
       "      <td>-0.250828</td>\n",
       "    </tr>\n",
       "    <tr>\n",
       "      <th>일본엔</th>\n",
       "      <td>0.025950</td>\n",
       "      <td>-0.000627</td>\n",
       "      <td>-0.002713</td>\n",
       "      <td>-0.045598</td>\n",
       "      <td>-0.013569</td>\n",
       "      <td>-0.211105</td>\n",
       "      <td>0.029815</td>\n",
       "      <td>0.001757</td>\n",
       "      <td>-0.210806</td>\n",
       "      <td>0.173326</td>\n",
       "      <td>...</td>\n",
       "      <td>0.706629</td>\n",
       "      <td>-0.126747</td>\n",
       "      <td>0.030713</td>\n",
       "      <td>-0.301375</td>\n",
       "      <td>-0.553465</td>\n",
       "      <td>-0.066094</td>\n",
       "      <td>-0.003157</td>\n",
       "      <td>-0.005788</td>\n",
       "      <td>0.011217</td>\n",
       "      <td>0.217668</td>\n",
       "    </tr>\n",
       "    <tr>\n",
       "      <th>유로</th>\n",
       "      <td>-0.004060</td>\n",
       "      <td>-0.086759</td>\n",
       "      <td>-0.020597</td>\n",
       "      <td>-0.089408</td>\n",
       "      <td>-0.117942</td>\n",
       "      <td>-0.570659</td>\n",
       "      <td>-0.030443</td>\n",
       "      <td>-0.003211</td>\n",
       "      <td>-0.570755</td>\n",
       "      <td>0.615641</td>\n",
       "      <td>...</td>\n",
       "      <td>1.000000</td>\n",
       "      <td>-0.535309</td>\n",
       "      <td>0.186484</td>\n",
       "      <td>-0.511901</td>\n",
       "      <td>-0.557270</td>\n",
       "      <td>0.319305</td>\n",
       "      <td>0.403360</td>\n",
       "      <td>0.398445</td>\n",
       "      <td>0.437919</td>\n",
       "      <td>0.686979</td>\n",
       "    </tr>\n",
       "    <tr>\n",
       "      <th>소비자물가지수</th>\n",
       "      <td>0.037240</td>\n",
       "      <td>0.296208</td>\n",
       "      <td>0.046195</td>\n",
       "      <td>0.154000</td>\n",
       "      <td>0.394555</td>\n",
       "      <td>0.970934</td>\n",
       "      <td>0.081226</td>\n",
       "      <td>0.007430</td>\n",
       "      <td>0.971337</td>\n",
       "      <td>-0.898740</td>\n",
       "      <td>...</td>\n",
       "      <td>-0.535309</td>\n",
       "      <td>1.000000</td>\n",
       "      <td>-0.200324</td>\n",
       "      <td>0.732017</td>\n",
       "      <td>0.490816</td>\n",
       "      <td>-0.815661</td>\n",
       "      <td>-0.850602</td>\n",
       "      <td>-0.850566</td>\n",
       "      <td>-0.872546</td>\n",
       "      <td>-0.887242</td>\n",
       "    </tr>\n",
       "    <tr>\n",
       "      <th>소비자물가지수(전월 대비 증감률)</th>\n",
       "      <td>-0.019575</td>\n",
       "      <td>-0.019626</td>\n",
       "      <td>-0.011131</td>\n",
       "      <td>-0.018901</td>\n",
       "      <td>-0.019270</td>\n",
       "      <td>-0.179084</td>\n",
       "      <td>-0.320154</td>\n",
       "      <td>0.015206</td>\n",
       "      <td>-0.181641</td>\n",
       "      <td>0.309657</td>\n",
       "      <td>...</td>\n",
       "      <td>0.186484</td>\n",
       "      <td>-0.200324</td>\n",
       "      <td>1.000000</td>\n",
       "      <td>-0.027903</td>\n",
       "      <td>0.058619</td>\n",
       "      <td>0.241307</td>\n",
       "      <td>0.252685</td>\n",
       "      <td>0.251013</td>\n",
       "      <td>0.263180</td>\n",
       "      <td>0.290204</td>\n",
       "    </tr>\n",
       "    <tr>\n",
       "      <th>KOSPI_종가</th>\n",
       "      <td>0.007617</td>\n",
       "      <td>0.278576</td>\n",
       "      <td>0.033875</td>\n",
       "      <td>0.135024</td>\n",
       "      <td>0.382759</td>\n",
       "      <td>0.748738</td>\n",
       "      <td>0.076375</td>\n",
       "      <td>0.004257</td>\n",
       "      <td>0.749160</td>\n",
       "      <td>-0.574863</td>\n",
       "      <td>...</td>\n",
       "      <td>-0.511901</td>\n",
       "      <td>0.732017</td>\n",
       "      <td>-0.027903</td>\n",
       "      <td>1.000000</td>\n",
       "      <td>0.784428</td>\n",
       "      <td>-0.531184</td>\n",
       "      <td>-0.561513</td>\n",
       "      <td>-0.568797</td>\n",
       "      <td>-0.557318</td>\n",
       "      <td>-0.577075</td>\n",
       "    </tr>\n",
       "    <tr>\n",
       "      <th>KOSDAQ_종가</th>\n",
       "      <td>-0.014844</td>\n",
       "      <td>0.250240</td>\n",
       "      <td>0.020553</td>\n",
       "      <td>0.109043</td>\n",
       "      <td>0.350334</td>\n",
       "      <td>0.609009</td>\n",
       "      <td>0.007416</td>\n",
       "      <td>-0.003973</td>\n",
       "      <td>0.608908</td>\n",
       "      <td>-0.401317</td>\n",
       "      <td>...</td>\n",
       "      <td>-0.557270</td>\n",
       "      <td>0.490816</td>\n",
       "      <td>0.058619</td>\n",
       "      <td>0.784428</td>\n",
       "      <td>1.000000</td>\n",
       "      <td>-0.382389</td>\n",
       "      <td>-0.404376</td>\n",
       "      <td>-0.409047</td>\n",
       "      <td>-0.396009</td>\n",
       "      <td>-0.456594</td>\n",
       "    </tr>\n",
       "    <tr>\n",
       "      <th>콜금리</th>\n",
       "      <td>-0.053861</td>\n",
       "      <td>-0.276981</td>\n",
       "      <td>-0.039316</td>\n",
       "      <td>-0.107188</td>\n",
       "      <td>-0.357040</td>\n",
       "      <td>-0.823078</td>\n",
       "      <td>-0.089492</td>\n",
       "      <td>-0.007567</td>\n",
       "      <td>-0.823587</td>\n",
       "      <td>0.868822</td>\n",
       "      <td>...</td>\n",
       "      <td>0.319305</td>\n",
       "      <td>-0.815661</td>\n",
       "      <td>0.241307</td>\n",
       "      <td>-0.531184</td>\n",
       "      <td>-0.382389</td>\n",
       "      <td>1.000000</td>\n",
       "      <td>0.989647</td>\n",
       "      <td>0.990663</td>\n",
       "      <td>0.971259</td>\n",
       "      <td>0.800967</td>\n",
       "    </tr>\n",
       "    <tr>\n",
       "      <th>KORIBOR_3개월</th>\n",
       "      <td>-0.054264</td>\n",
       "      <td>-0.268471</td>\n",
       "      <td>-0.040830</td>\n",
       "      <td>-0.111637</td>\n",
       "      <td>-0.345466</td>\n",
       "      <td>-0.851232</td>\n",
       "      <td>-0.083366</td>\n",
       "      <td>-0.008383</td>\n",
       "      <td>-0.851684</td>\n",
       "      <td>0.921548</td>\n",
       "      <td>...</td>\n",
       "      <td>0.403360</td>\n",
       "      <td>-0.850602</td>\n",
       "      <td>0.252685</td>\n",
       "      <td>-0.561513</td>\n",
       "      <td>-0.404376</td>\n",
       "      <td>0.989647</td>\n",
       "      <td>1.000000</td>\n",
       "      <td>0.999437</td>\n",
       "      <td>0.989069</td>\n",
       "      <td>0.859113</td>\n",
       "    </tr>\n",
       "    <tr>\n",
       "      <th>CD_91일</th>\n",
       "      <td>-0.054424</td>\n",
       "      <td>-0.270956</td>\n",
       "      <td>-0.040923</td>\n",
       "      <td>-0.111984</td>\n",
       "      <td>-0.348573</td>\n",
       "      <td>-0.851147</td>\n",
       "      <td>-0.090138</td>\n",
       "      <td>-0.008436</td>\n",
       "      <td>-0.851654</td>\n",
       "      <td>0.917203</td>\n",
       "      <td>...</td>\n",
       "      <td>0.398445</td>\n",
       "      <td>-0.850566</td>\n",
       "      <td>0.251013</td>\n",
       "      <td>-0.568797</td>\n",
       "      <td>-0.409047</td>\n",
       "      <td>0.990663</td>\n",
       "      <td>0.999437</td>\n",
       "      <td>1.000000</td>\n",
       "      <td>0.987314</td>\n",
       "      <td>0.853458</td>\n",
       "    </tr>\n",
       "    <tr>\n",
       "      <th>국고채_1년</th>\n",
       "      <td>-0.053894</td>\n",
       "      <td>-0.271088</td>\n",
       "      <td>-0.041675</td>\n",
       "      <td>-0.115472</td>\n",
       "      <td>-0.349898</td>\n",
       "      <td>-0.875257</td>\n",
       "      <td>-0.069000</td>\n",
       "      <td>-0.008456</td>\n",
       "      <td>-0.875585</td>\n",
       "      <td>0.947333</td>\n",
       "      <td>...</td>\n",
       "      <td>0.437919</td>\n",
       "      <td>-0.872546</td>\n",
       "      <td>0.263180</td>\n",
       "      <td>-0.557318</td>\n",
       "      <td>-0.396009</td>\n",
       "      <td>0.971259</td>\n",
       "      <td>0.989069</td>\n",
       "      <td>0.987314</td>\n",
       "      <td>1.000000</td>\n",
       "      <td>0.905055</td>\n",
       "    </tr>\n",
       "    <tr>\n",
       "      <th>국고채_10년</th>\n",
       "      <td>-0.042993</td>\n",
       "      <td>-0.240086</td>\n",
       "      <td>-0.041006</td>\n",
       "      <td>-0.125770</td>\n",
       "      <td>-0.312418</td>\n",
       "      <td>-0.896074</td>\n",
       "      <td>-0.089359</td>\n",
       "      <td>-0.006645</td>\n",
       "      <td>-0.896563</td>\n",
       "      <td>0.961655</td>\n",
       "      <td>...</td>\n",
       "      <td>0.686979</td>\n",
       "      <td>-0.887242</td>\n",
       "      <td>0.290204</td>\n",
       "      <td>-0.577075</td>\n",
       "      <td>-0.456594</td>\n",
       "      <td>0.800967</td>\n",
       "      <td>0.859113</td>\n",
       "      <td>0.853458</td>\n",
       "      <td>0.905055</td>\n",
       "      <td>1.000000</td>\n",
       "    </tr>\n",
       "  </tbody>\n",
       "</table>\n",
       "<p>22 rows × 22 columns</p>\n",
       "</div>"
      ],
      "text/plain": [
       "                        전용면적      거래금액         층      건축년도     면적당가격  \\\n",
       "전용면적                1.000000  0.584180  0.104628  0.073384  0.042055   \n",
       "거래금액                0.584180  1.000000  0.151511  0.046550  0.766358   \n",
       "층                   0.104628  0.151511  1.000000  0.187528  0.108048   \n",
       "건축년도                0.073384  0.046550  0.187528  1.000000  0.041924   \n",
       "면적당가격               0.042055  0.766358  0.108048  0.041924  1.000000   \n",
       "계약년                 0.028232  0.328837  0.044992  0.156863  0.442193   \n",
       "계약월                 0.017564  0.055616  0.010476  0.022824  0.063748   \n",
       "계약일                 0.003270  0.009584  0.001807  0.003285  0.011409   \n",
       "년월                  0.028368  0.329202  0.045065  0.157007  0.442594   \n",
       "주택담보대출금리           -0.047998 -0.234658 -0.041686 -0.122363 -0.303471   \n",
       "미국달러                0.035210  0.156960  0.018425  0.029419  0.201177   \n",
       "일본엔                 0.025950 -0.000627 -0.002713 -0.045598 -0.013569   \n",
       "유로                 -0.004060 -0.086759 -0.020597 -0.089408 -0.117942   \n",
       "소비자물가지수             0.037240  0.296208  0.046195  0.154000  0.394555   \n",
       "소비자물가지수(전월 대비 증감률) -0.019575 -0.019626 -0.011131 -0.018901 -0.019270   \n",
       "KOSPI_종가            0.007617  0.278576  0.033875  0.135024  0.382759   \n",
       "KOSDAQ_종가          -0.014844  0.250240  0.020553  0.109043  0.350334   \n",
       "콜금리                -0.053861 -0.276981 -0.039316 -0.107188 -0.357040   \n",
       "KORIBOR_3개월        -0.054264 -0.268471 -0.040830 -0.111637 -0.345466   \n",
       "CD_91일             -0.054424 -0.270956 -0.040923 -0.111984 -0.348573   \n",
       "국고채_1년             -0.053894 -0.271088 -0.041675 -0.115472 -0.349898   \n",
       "국고채_10년            -0.042993 -0.240086 -0.041006 -0.125770 -0.312418   \n",
       "\n",
       "                         계약년       계약월       계약일        년월  주택담보대출금리  ...  \\\n",
       "전용면적                0.028232  0.017564  0.003270  0.028368 -0.047998  ...   \n",
       "거래금액                0.328837  0.055616  0.009584  0.329202 -0.234658  ...   \n",
       "층                   0.044992  0.010476  0.001807  0.045065 -0.041686  ...   \n",
       "건축년도                0.156863  0.022824  0.003285  0.157007 -0.122363  ...   \n",
       "면적당가격               0.442193  0.063748  0.011409  0.442594 -0.303471  ...   \n",
       "계약년                 1.000000  0.028645  0.008375  0.999967 -0.885517  ...   \n",
       "계약월                 0.028645  1.000000 -0.009210  0.036772 -0.096834  ...   \n",
       "계약일                 0.008375 -0.009210  1.000000  0.008298 -0.006911  ...   \n",
       "년월                  0.999967  0.036772  0.008298  1.000000 -0.886069  ...   \n",
       "주택담보대출금리           -0.885517 -0.096834 -0.006911 -0.886069  1.000000  ...   \n",
       "미국달러                0.305464  0.019176  0.002752  0.305538 -0.301409  ...   \n",
       "일본엔                -0.211105  0.029815  0.001757 -0.210806  0.173326  ...   \n",
       "유로                 -0.570659 -0.030443 -0.003211 -0.570755  0.615641  ...   \n",
       "소비자물가지수             0.970934  0.081226  0.007430  0.971337 -0.898740  ...   \n",
       "소비자물가지수(전월 대비 증감률) -0.179084 -0.320154  0.015206 -0.181641  0.309657  ...   \n",
       "KOSPI_종가            0.748738  0.076375  0.004257  0.749160 -0.574863  ...   \n",
       "KOSDAQ_종가           0.609009  0.007416 -0.003973  0.608908 -0.401317  ...   \n",
       "콜금리                -0.823078 -0.089492 -0.007567 -0.823587  0.868822  ...   \n",
       "KORIBOR_3개월        -0.851232 -0.083366 -0.008383 -0.851684  0.921548  ...   \n",
       "CD_91일             -0.851147 -0.090138 -0.008436 -0.851654  0.917203  ...   \n",
       "국고채_1년             -0.875257 -0.069000 -0.008456 -0.875585  0.947333  ...   \n",
       "국고채_10년            -0.896074 -0.089359 -0.006645 -0.896563  0.961655  ...   \n",
       "\n",
       "                          유로   소비자물가지수  소비자물가지수(전월 대비 증감률)  KOSPI_종가  \\\n",
       "전용면적               -0.004060  0.037240           -0.019575  0.007617   \n",
       "거래금액               -0.086759  0.296208           -0.019626  0.278576   \n",
       "층                  -0.020597  0.046195           -0.011131  0.033875   \n",
       "건축년도               -0.089408  0.154000           -0.018901  0.135024   \n",
       "면적당가격              -0.117942  0.394555           -0.019270  0.382759   \n",
       "계약년                -0.570659  0.970934           -0.179084  0.748738   \n",
       "계약월                -0.030443  0.081226           -0.320154  0.076375   \n",
       "계약일                -0.003211  0.007430            0.015206  0.004257   \n",
       "년월                 -0.570755  0.971337           -0.181641  0.749160   \n",
       "주택담보대출금리            0.615641 -0.898740            0.309657 -0.574863   \n",
       "미국달러                0.359590  0.322814           -0.115461 -0.123351   \n",
       "일본엔                 0.706629 -0.126747            0.030713 -0.301375   \n",
       "유로                  1.000000 -0.535309            0.186484 -0.511901   \n",
       "소비자물가지수            -0.535309  1.000000           -0.200324  0.732017   \n",
       "소비자물가지수(전월 대비 증감률)  0.186484 -0.200324            1.000000 -0.027903   \n",
       "KOSPI_종가           -0.511901  0.732017           -0.027903  1.000000   \n",
       "KOSDAQ_종가          -0.557270  0.490816            0.058619  0.784428   \n",
       "콜금리                 0.319305 -0.815661            0.241307 -0.531184   \n",
       "KORIBOR_3개월         0.403360 -0.850602            0.252685 -0.561513   \n",
       "CD_91일              0.398445 -0.850566            0.251013 -0.568797   \n",
       "국고채_1년              0.437919 -0.872546            0.263180 -0.557318   \n",
       "국고채_10년             0.686979 -0.887242            0.290204 -0.577075   \n",
       "\n",
       "                    KOSDAQ_종가       콜금리  KORIBOR_3개월    CD_91일    국고채_1년  \\\n",
       "전용면적                -0.014844 -0.053861    -0.054264 -0.054424 -0.053894   \n",
       "거래금액                 0.250240 -0.276981    -0.268471 -0.270956 -0.271088   \n",
       "층                    0.020553 -0.039316    -0.040830 -0.040923 -0.041675   \n",
       "건축년도                 0.109043 -0.107188    -0.111637 -0.111984 -0.115472   \n",
       "면적당가격                0.350334 -0.357040    -0.345466 -0.348573 -0.349898   \n",
       "계약년                  0.609009 -0.823078    -0.851232 -0.851147 -0.875257   \n",
       "계약월                  0.007416 -0.089492    -0.083366 -0.090138 -0.069000   \n",
       "계약일                 -0.003973 -0.007567    -0.008383 -0.008436 -0.008456   \n",
       "년월                   0.608908 -0.823587    -0.851684 -0.851654 -0.875585   \n",
       "주택담보대출금리            -0.401317  0.868822     0.921548  0.917203  0.947333   \n",
       "미국달러                -0.183999 -0.563199    -0.499134 -0.497881 -0.494042   \n",
       "일본엔                 -0.553465 -0.066094    -0.003157 -0.005788  0.011217   \n",
       "유로                  -0.557270  0.319305     0.403360  0.398445  0.437919   \n",
       "소비자물가지수              0.490816 -0.815661    -0.850602 -0.850566 -0.872546   \n",
       "소비자물가지수(전월 대비 증감률)   0.058619  0.241307     0.252685  0.251013  0.263180   \n",
       "KOSPI_종가             0.784428 -0.531184    -0.561513 -0.568797 -0.557318   \n",
       "KOSDAQ_종가            1.000000 -0.382389    -0.404376 -0.409047 -0.396009   \n",
       "콜금리                 -0.382389  1.000000     0.989647  0.990663  0.971259   \n",
       "KORIBOR_3개월         -0.404376  0.989647     1.000000  0.999437  0.989069   \n",
       "CD_91일              -0.409047  0.990663     0.999437  1.000000  0.987314   \n",
       "국고채_1년              -0.396009  0.971259     0.989069  0.987314  1.000000   \n",
       "국고채_10년             -0.456594  0.800967     0.859113  0.853458  0.905055   \n",
       "\n",
       "                     국고채_10년  \n",
       "전용면적               -0.042993  \n",
       "거래금액               -0.240086  \n",
       "층                  -0.041006  \n",
       "건축년도               -0.125770  \n",
       "면적당가격              -0.312418  \n",
       "계약년                -0.896074  \n",
       "계약월                -0.089359  \n",
       "계약일                -0.006645  \n",
       "년월                 -0.896563  \n",
       "주택담보대출금리            0.961655  \n",
       "미국달러               -0.250828  \n",
       "일본엔                 0.217668  \n",
       "유로                  0.686979  \n",
       "소비자물가지수            -0.887242  \n",
       "소비자물가지수(전월 대비 증감률)  0.290204  \n",
       "KOSPI_종가           -0.577075  \n",
       "KOSDAQ_종가          -0.456594  \n",
       "콜금리                 0.800967  \n",
       "KORIBOR_3개월         0.859113  \n",
       "CD_91일              0.853458  \n",
       "국고채_1년              0.905055  \n",
       "국고채_10년             1.000000  \n",
       "\n",
       "[22 rows x 22 columns]"
      ]
     },
     "execution_count": 8,
     "metadata": {},
     "output_type": "execute_result"
    }
   ],
   "source": [
    "df.corr()"
   ]
  },
  {
   "cell_type": "code",
   "execution_count": 14,
   "metadata": {},
   "outputs": [
    {
     "name": "stderr",
     "output_type": "stream",
     "text": [
      "C:\\Users\\tjoeun\\AppData\\Local\\Temp\\ipykernel_19444\\2001492914.py:1: FutureWarning: Passing a set as an indexer is deprecated and will raise in a future version. Use a list instead.\n",
      "  df1=df[{'층','면적당가격','년월','미국달러','소비자물가지수','콜금리'}]\n"
     ]
    },
    {
     "data": {
      "text/html": [
       "<div>\n",
       "<style scoped>\n",
       "    .dataframe tbody tr th:only-of-type {\n",
       "        vertical-align: middle;\n",
       "    }\n",
       "\n",
       "    .dataframe tbody tr th {\n",
       "        vertical-align: top;\n",
       "    }\n",
       "\n",
       "    .dataframe thead th {\n",
       "        text-align: right;\n",
       "    }\n",
       "</style>\n",
       "<table border=\"1\" class=\"dataframe\">\n",
       "  <thead>\n",
       "    <tr style=\"text-align: right;\">\n",
       "      <th></th>\n",
       "      <th>년월</th>\n",
       "      <th>소비자물가지수</th>\n",
       "      <th>면적당가격</th>\n",
       "      <th>미국달러</th>\n",
       "      <th>콜금리</th>\n",
       "      <th>층</th>\n",
       "    </tr>\n",
       "  </thead>\n",
       "  <tbody>\n",
       "    <tr>\n",
       "      <th>0</th>\n",
       "      <td>200701</td>\n",
       "      <td>76.496</td>\n",
       "      <td>351.842588</td>\n",
       "      <td>940.9</td>\n",
       "      <td>4.63</td>\n",
       "      <td>8</td>\n",
       "    </tr>\n",
       "    <tr>\n",
       "      <th>1</th>\n",
       "      <td>200701</td>\n",
       "      <td>76.496</td>\n",
       "      <td>370.744860</td>\n",
       "      <td>940.9</td>\n",
       "      <td>4.63</td>\n",
       "      <td>8</td>\n",
       "    </tr>\n",
       "    <tr>\n",
       "      <th>2</th>\n",
       "      <td>200701</td>\n",
       "      <td>76.496</td>\n",
       "      <td>370.631839</td>\n",
       "      <td>940.9</td>\n",
       "      <td>4.63</td>\n",
       "      <td>10</td>\n",
       "    </tr>\n",
       "  </tbody>\n",
       "</table>\n",
       "</div>"
      ],
      "text/plain": [
       "       년월  소비자물가지수       면적당가격   미국달러   콜금리   층\n",
       "0  200701   76.496  351.842588  940.9  4.63   8\n",
       "1  200701   76.496  370.744860  940.9  4.63   8\n",
       "2  200701   76.496  370.631839  940.9  4.63  10"
      ]
     },
     "execution_count": 14,
     "metadata": {},
     "output_type": "execute_result"
    }
   ],
   "source": [
    "df1=df[{'층','면적당가격','년월','미국달러','소비자물가지수','콜금리'}]\n",
    "df1.head(3)"
   ]
  },
  {
   "cell_type": "code",
   "execution_count": 25,
   "metadata": {},
   "outputs": [
    {
     "data": {
      "image/png": "[encoded data removed]",
      "text/plain": [
       "<Figure size 700x500 with 2 Axes>"
      ]
     },
     "metadata": {},
     "output_type": "display_data"
    }
   ],
   "source": [
    "plt.figure(figsize=(7,5))\n",
    "cmap= sns.light_palette('blue', as_cmap=True)\n",
    "sns.heatmap(df1.corr(), annot=True, cmap=cmap)\n",
    "plt.show()"
   ]
  },
  {
   "cell_type": "code",
   "execution_count": 26,
   "metadata": {},
   "outputs": [
    {
     "data": {
      "text/plain": [
       "<AxesSubplot:xlabel='면적당가격', ylabel='콜금리'>"
      ]
     },
     "execution_count": 26,
     "metadata": {},
     "output_type": "execute_result"
    },
    {
     "data": {
      "image/png": "[encoded data removed]",
      "text/plain": [
       "<Figure size 640x480 with 1 Axes>"
      ]
     },
     "metadata": {},
     "output_type": "display_data"
    }
   ],
   "source": [
    "df1.plot(kind='scatter', x=\"면적당가격\", y=\"콜금리\", alpha=0.1)"
   ]
  },
  {
   "cell_type": "code",
   "execution_count": 28,
   "metadata": {},
   "outputs": [],
   "source": [
    "a = df['년월']\n",
    "b = df['계약일']\n",
    "c = []\n",
    "for i in range(len(b)):\n",
    "    if int(b[i]) <10:\n",
    "        ans = str(a[i])+str('0')+str(b[i])\n",
    "        c.append(ans)\n",
    "    else:\n",
    "        ans = str(a[i])+str(b[i])\n",
    "        c.append(ans)"
   ]
  },
  {
   "cell_type": "code",
   "execution_count": 30,
   "metadata": {},
   "outputs": [
    {
     "name": "stderr",
     "output_type": "stream",
     "text": [
      "C:\\Users\\tjoeun\\AppData\\Local\\Temp\\ipykernel_19444\\2066066066.py:1: SettingWithCopyWarning: \n",
      "A value is trying to be set on a copy of a slice from a DataFrame.\n",
      "Try using .loc[row_indexer,col_indexer] = value instead\n",
      "\n",
      "See the caveats in the documentation: https://pandas.pydata.org/pandas-docs/stable/user_guide/indexing.html#returning-a-view-versus-a-copy\n",
      "  df1['계약년월일'] = c\n"
     ]
    },
    {
     "data": {
      "text/html": [
       "<div>\n",
       "<style scoped>\n",
       "    .dataframe tbody tr th:only-of-type {\n",
       "        vertical-align: middle;\n",
       "    }\n",
       "\n",
       "    .dataframe tbody tr th {\n",
       "        vertical-align: top;\n",
       "    }\n",
       "\n",
       "    .dataframe thead th {\n",
       "        text-align: right;\n",
       "    }\n",
       "</style>\n",
       "<table border=\"1\" class=\"dataframe\">\n",
       "  <thead>\n",
       "    <tr style=\"text-align: right;\">\n",
       "      <th></th>\n",
       "      <th>년월</th>\n",
       "      <th>소비자물가지수</th>\n",
       "      <th>면적당가격</th>\n",
       "      <th>미국달러</th>\n",
       "      <th>콜금리</th>\n",
       "      <th>층</th>\n",
       "      <th>계약년월일</th>\n",
       "    </tr>\n",
       "  </thead>\n",
       "  <tbody>\n",
       "    <tr>\n",
       "      <th>0</th>\n",
       "      <td>200701</td>\n",
       "      <td>76.496</td>\n",
       "      <td>351.842588</td>\n",
       "      <td>940.9</td>\n",
       "      <td>4.63</td>\n",
       "      <td>8</td>\n",
       "      <td>20070101</td>\n",
       "    </tr>\n",
       "    <tr>\n",
       "      <th>1</th>\n",
       "      <td>200701</td>\n",
       "      <td>76.496</td>\n",
       "      <td>370.744860</td>\n",
       "      <td>940.9</td>\n",
       "      <td>4.63</td>\n",
       "      <td>8</td>\n",
       "      <td>20070101</td>\n",
       "    </tr>\n",
       "    <tr>\n",
       "      <th>2</th>\n",
       "      <td>200701</td>\n",
       "      <td>76.496</td>\n",
       "      <td>370.631839</td>\n",
       "      <td>940.9</td>\n",
       "      <td>4.63</td>\n",
       "      <td>10</td>\n",
       "      <td>20070101</td>\n",
       "    </tr>\n",
       "    <tr>\n",
       "      <th>3</th>\n",
       "      <td>200701</td>\n",
       "      <td>76.496</td>\n",
       "      <td>263.596930</td>\n",
       "      <td>940.9</td>\n",
       "      <td>4.63</td>\n",
       "      <td>9</td>\n",
       "      <td>20070101</td>\n",
       "    </tr>\n",
       "    <tr>\n",
       "      <th>4</th>\n",
       "      <td>200701</td>\n",
       "      <td>76.496</td>\n",
       "      <td>331.086674</td>\n",
       "      <td>940.9</td>\n",
       "      <td>4.63</td>\n",
       "      <td>7</td>\n",
       "      <td>20070101</td>\n",
       "    </tr>\n",
       "  </tbody>\n",
       "</table>\n",
       "</div>"
      ],
      "text/plain": [
       "       년월  소비자물가지수       면적당가격   미국달러   콜금리   층     계약년월일\n",
       "0  200701   76.496  351.842588  940.9  4.63   8  20070101\n",
       "1  200701   76.496  370.744860  940.9  4.63   8  20070101\n",
       "2  200701   76.496  370.631839  940.9  4.63  10  20070101\n",
       "3  200701   76.496  263.596930  940.9  4.63   9  20070101\n",
       "4  200701   76.496  331.086674  940.9  4.63   7  20070101"
      ]
     },
     "execution_count": 30,
     "metadata": {},
     "output_type": "execute_result"
    }
   ],
   "source": [
    "df1['계약년월일'] = c\n",
    "df1.head()"
   ]
  },
  {
   "cell_type": "code",
   "execution_count": 31,
   "metadata": {},
   "outputs": [
    {
     "name": "stderr",
     "output_type": "stream",
     "text": [
      "C:\\Users\\tjoeun\\AppData\\Local\\Temp\\ipykernel_19444\\676627574.py:1: SettingWithCopyWarning: \n",
      "A value is trying to be set on a copy of a slice from a DataFrame\n",
      "\n",
      "See the caveats in the documentation: https://pandas.pydata.org/pandas-docs/stable/user_guide/indexing.html#returning-a-view-versus-a-copy\n",
      "  df1.drop(df1.iloc[:,[0]], axis=1, inplace=True)\n"
     ]
    },
    {
     "data": {
      "text/html": [
       "<div>\n",
       "<style scoped>\n",
       "    .dataframe tbody tr th:only-of-type {\n",
       "        vertical-align: middle;\n",
       "    }\n",
       "\n",
       "    .dataframe tbody tr th {\n",
       "        vertical-align: top;\n",
       "    }\n",
       "\n",
       "    .dataframe thead th {\n",
       "        text-align: right;\n",
       "    }\n",
       "</style>\n",
       "<table border=\"1\" class=\"dataframe\">\n",
       "  <thead>\n",
       "    <tr style=\"text-align: right;\">\n",
       "      <th></th>\n",
       "      <th>소비자물가지수</th>\n",
       "      <th>면적당가격</th>\n",
       "      <th>미국달러</th>\n",
       "      <th>콜금리</th>\n",
       "      <th>층</th>\n",
       "      <th>계약년월일</th>\n",
       "    </tr>\n",
       "  </thead>\n",
       "  <tbody>\n",
       "    <tr>\n",
       "      <th>0</th>\n",
       "      <td>76.496</td>\n",
       "      <td>351.842588</td>\n",
       "      <td>940.9</td>\n",
       "      <td>4.63</td>\n",
       "      <td>8</td>\n",
       "      <td>20070101</td>\n",
       "    </tr>\n",
       "    <tr>\n",
       "      <th>1</th>\n",
       "      <td>76.496</td>\n",
       "      <td>370.744860</td>\n",
       "      <td>940.9</td>\n",
       "      <td>4.63</td>\n",
       "      <td>8</td>\n",
       "      <td>20070101</td>\n",
       "    </tr>\n",
       "    <tr>\n",
       "      <th>2</th>\n",
       "      <td>76.496</td>\n",
       "      <td>370.631839</td>\n",
       "      <td>940.9</td>\n",
       "      <td>4.63</td>\n",
       "      <td>10</td>\n",
       "      <td>20070101</td>\n",
       "    </tr>\n",
       "  </tbody>\n",
       "</table>\n",
       "</div>"
      ],
      "text/plain": [
       "   소비자물가지수       면적당가격   미국달러   콜금리   층     계약년월일\n",
       "0   76.496  351.842588  940.9  4.63   8  20070101\n",
       "1   76.496  370.744860  940.9  4.63   8  20070101\n",
       "2   76.496  370.631839  940.9  4.63  10  20070101"
      ]
     },
     "execution_count": 31,
     "metadata": {},
     "output_type": "execute_result"
    }
   ],
   "source": [
    "df1.drop(df1.iloc[:,[0]], axis=1, inplace=True)\n",
    "df1.head(3)"
   ]
  },
  {
   "cell_type": "code",
   "execution_count": 41,
   "metadata": {},
   "outputs": [
    {
     "data": {
      "text/html": [
       "<div>\n",
       "<style scoped>\n",
       "    .dataframe tbody tr th:only-of-type {\n",
       "        vertical-align: middle;\n",
       "    }\n",
       "\n",
       "    .dataframe tbody tr th {\n",
       "        vertical-align: top;\n",
       "    }\n",
       "\n",
       "    .dataframe thead th {\n",
       "        text-align: right;\n",
       "    }\n",
       "</style>\n",
       "<table border=\"1\" class=\"dataframe\">\n",
       "  <thead>\n",
       "    <tr style=\"text-align: right;\">\n",
       "      <th></th>\n",
       "      <th>소비자물가지수</th>\n",
       "      <th>면적당가격</th>\n",
       "      <th>미국달러</th>\n",
       "      <th>콜금리</th>\n",
       "      <th>층</th>\n",
       "    </tr>\n",
       "    <tr>\n",
       "      <th>계약년월일</th>\n",
       "      <th></th>\n",
       "      <th></th>\n",
       "      <th></th>\n",
       "      <th></th>\n",
       "      <th></th>\n",
       "    </tr>\n",
       "  </thead>\n",
       "  <tbody>\n",
       "    <tr>\n",
       "      <th>20070101</th>\n",
       "      <td>76.496</td>\n",
       "      <td>368.024421</td>\n",
       "      <td>940.9</td>\n",
       "      <td>4.63</td>\n",
       "      <td>7.785714</td>\n",
       "    </tr>\n",
       "    <tr>\n",
       "      <th>20070102</th>\n",
       "      <td>76.496</td>\n",
       "      <td>417.453026</td>\n",
       "      <td>940.9</td>\n",
       "      <td>4.63</td>\n",
       "      <td>7.560847</td>\n",
       "    </tr>\n",
       "    <tr>\n",
       "      <th>20070103</th>\n",
       "      <td>76.496</td>\n",
       "      <td>423.969219</td>\n",
       "      <td>940.9</td>\n",
       "      <td>4.63</td>\n",
       "      <td>8.038462</td>\n",
       "    </tr>\n",
       "  </tbody>\n",
       "</table>\n",
       "</div>"
      ],
      "text/plain": [
       "          소비자물가지수       면적당가격   미국달러   콜금리         층\n",
       "계약년월일                                               \n",
       "20070101   76.496  368.024421  940.9  4.63  7.785714\n",
       "20070102   76.496  417.453026  940.9  4.63  7.560847\n",
       "20070103   76.496  423.969219  940.9  4.63  8.038462"
      ]
     },
     "execution_count": 41,
     "metadata": {},
     "output_type": "execute_result"
    }
   ],
   "source": [
    "dfx=df1.groupby('계약년월일').mean()\n",
    "dfx.head(3)\n",
    " "
   ]
  },
  {
   "cell_type": "code",
   "execution_count": 42,
   "metadata": {},
   "outputs": [
    {
     "name": "stdout",
     "output_type": "stream",
     "text": [
      "<class 'pandas.core.frame.DataFrame'>\n",
      "Index: 5870 entries, 20070101 to 20230131\n",
      "Data columns (total 5 columns):\n",
      " #   Column   Non-Null Count  Dtype  \n",
      "---  ------   --------------  -----  \n",
      " 0   소비자물가지수  5870 non-null   float64\n",
      " 1   면적당가격    5870 non-null   float64\n",
      " 2   미국달러     5870 non-null   float64\n",
      " 3   콜금리      5870 non-null   float64\n",
      " 4   층        5870 non-null   float64\n",
      "dtypes: float64(5)\n",
      "memory usage: 275.2+ KB\n"
     ]
    }
   ],
   "source": [
    "dfx.info()"
   ]
  },
  {
   "cell_type": "code",
   "execution_count": 43,
   "metadata": {},
   "outputs": [
    {
     "data": {
      "text/html": [
       "<div>\n",
       "<style scoped>\n",
       "    .dataframe tbody tr th:only-of-type {\n",
       "        vertical-align: middle;\n",
       "    }\n",
       "\n",
       "    .dataframe tbody tr th {\n",
       "        vertical-align: top;\n",
       "    }\n",
       "\n",
       "    .dataframe thead th {\n",
       "        text-align: right;\n",
       "    }\n",
       "</style>\n",
       "<table border=\"1\" class=\"dataframe\">\n",
       "  <thead>\n",
       "    <tr style=\"text-align: right;\">\n",
       "      <th>계약년월일</th>\n",
       "      <th>20070101</th>\n",
       "      <th>20070102</th>\n",
       "      <th>20070103</th>\n",
       "      <th>20070104</th>\n",
       "      <th>20070105</th>\n",
       "    </tr>\n",
       "  </thead>\n",
       "  <tbody>\n",
       "    <tr>\n",
       "      <th>소비자물가지수</th>\n",
       "      <td>76.496000</td>\n",
       "      <td>76.496000</td>\n",
       "      <td>76.496000</td>\n",
       "      <td>76.496000</td>\n",
       "      <td>76.496000</td>\n",
       "    </tr>\n",
       "    <tr>\n",
       "      <th>미국달러</th>\n",
       "      <td>940.900000</td>\n",
       "      <td>940.900000</td>\n",
       "      <td>940.900000</td>\n",
       "      <td>940.900000</td>\n",
       "      <td>940.900000</td>\n",
       "    </tr>\n",
       "    <tr>\n",
       "      <th>콜금리</th>\n",
       "      <td>4.630000</td>\n",
       "      <td>4.630000</td>\n",
       "      <td>4.630000</td>\n",
       "      <td>4.630000</td>\n",
       "      <td>4.630000</td>\n",
       "    </tr>\n",
       "    <tr>\n",
       "      <th>층</th>\n",
       "      <td>7.785714</td>\n",
       "      <td>7.560847</td>\n",
       "      <td>8.038462</td>\n",
       "      <td>6.905759</td>\n",
       "      <td>7.027027</td>\n",
       "    </tr>\n",
       "  </tbody>\n",
       "</table>\n",
       "</div>"
      ],
      "text/plain": [
       "계약년월일      20070101    20070102    20070103    20070104    20070105\n",
       "소비자물가지수   76.496000   76.496000   76.496000   76.496000   76.496000\n",
       "미국달러     940.900000  940.900000  940.900000  940.900000  940.900000\n",
       "콜금리        4.630000    4.630000    4.630000    4.630000    4.630000\n",
       "층          7.785714    7.560847    8.038462    6.905759    7.027027"
      ]
     },
     "execution_count": 43,
     "metadata": {},
     "output_type": "execute_result"
    }
   ],
   "source": [
    "df2=pd.DataFrame(dfx)\n",
    "price_label = dfx['면적당가격'].copy()\n",
    "df2.drop('면적당가격',axis=1, inplace=True)\n",
    "df2.head().transpose()"
   ]
  },
  {
   "cell_type": "code",
   "execution_count": 44,
   "metadata": {},
   "outputs": [
    {
     "data": {
      "text/plain": [
       "(5870, 5)"
      ]
     },
     "execution_count": 44,
     "metadata": {},
     "output_type": "execute_result"
    }
   ],
   "source": [
    "from sklearn.preprocessing import StandardScaler\n",
    "\n",
    "scaler = StandardScaler()\n",
    "scaler.fit(dfx)\n",
    "scaled_df = scaler.transform(dfx)\n",
    "scaled_df.shape"
   ]
  },
  {
   "cell_type": "code",
   "execution_count": 45,
   "metadata": {},
   "outputs": [
    {
     "name": "stdout",
     "output_type": "stream",
     "text": [
      "(4696, 5) (1174, 5)\n"
     ]
    }
   ],
   "source": [
    "np.random.seed(10)\n",
    "from sklearn.model_selection import train_test_split\n",
    "X_train, X_test, y_train, y_test = train_test_split(scaled_df, price_label, \n",
    "                                                    test_size = 0.2, random_state=0)\n",
    "print(X_train.shape, X_test.shape)\n"
   ]
  },
  {
   "cell_type": "code",
   "execution_count": 46,
   "metadata": {},
   "outputs": [
    {
     "data": {
      "text/plain": [
       "LinearRegression()"
      ]
     },
     "execution_count": 46,
     "metadata": {},
     "output_type": "execute_result"
    }
   ],
   "source": [
    "from sklearn.linear_model import LinearRegression\n",
    "lin_reg= LinearRegression()\n",
    "lin_reg.fit(X_train, y_train)\n"
   ]
  },
  {
   "cell_type": "code",
   "execution_count": 47,
   "metadata": {},
   "outputs": [
    {
     "name": "stdout",
     "output_type": "stream",
     "text": [
      "1.985330500615452e-13\n"
     ]
    }
   ],
   "source": [
    "from sklearn.metrics import mean_squared_error\n",
    "y_pred = lin_reg.predict(X_test)\n",
    "rms=np.sqrt(mean_squared_error(y_test, y_pred))\n",
    "print(rms)"
   ]
  },
  {
   "cell_type": "code",
   "execution_count": 48,
   "metadata": {},
   "outputs": [
    {
     "name": "stdout",
     "output_type": "stream",
     "text": [
      "1.170746783794313\n"
     ]
    }
   ],
   "source": [
    "from sklearn.tree import DecisionTreeRegressor\n",
    "\n",
    "tree_reg = DecisionTreeRegressor()\n",
    "tree_reg.fit(X_train, y_train) \n",
    "y_pred = tree_reg.predict(X_test)\n",
    "rms = np.sqrt(mean_squared_error(y_test, y_pred))\n",
    "print(rms) \n"
   ]
  },
  {
   "cell_type": "code",
   "execution_count": 49,
   "metadata": {},
   "outputs": [
    {
     "name": "stdout",
     "output_type": "stream",
     "text": [
      "0.06748713851344809\n"
     ]
    }
   ],
   "source": [
    "from sklearn.svm import SVR\n",
    "svm_reg = SVR(kernel=\"linear\")\n",
    "svm_reg.fit(X_train, y_train)\n",
    "y_pred=svm_reg.predict(X_test)\n",
    "rms = np.sqrt(mean_squared_error(y_test, y_pred))\n",
    "print(rms)"
   ]
  },
  {
   "cell_type": "code",
   "execution_count": 50,
   "metadata": {},
   "outputs": [
    {
     "name": "stdout",
     "output_type": "stream",
     "text": [
      "0.3819126118443779\n"
     ]
    }
   ],
   "source": [
    "from sklearn.ensemble import RandomForestRegressor\n",
    "forest_reg = RandomForestRegressor(n_jobs = -1)\n",
    "forest_reg.fit(X_train, y_train)\n",
    "y_pred = forest_reg.predict(X_test)\n",
    "rms = np.sqrt(mean_squared_error(y_test, y_pred))\n",
    "print(rms)"
   ]
  },
  {
   "cell_type": "code",
   "execution_count": 55,
   "metadata": {},
   "outputs": [
    {
     "name": "stderr",
     "output_type": "stream",
     "text": [
      "c:\\Anaconda3\\lib\\site-packages\\sklearn\\model_selection\\_validation.py:372: FitFailedWarning: \n",
      "50 fits failed out of a total of 100.\n",
      "The score on these train-test partitions for these parameters will be set to nan.\n",
      "If these failures are not expected, you can try to debug them by setting error_score='raise'.\n",
      "\n",
      "Below are more details about the failures:\n",
      "--------------------------------------------------------------------------------\n",
      "50 fits failed with the following error:\n",
      "joblib.externals.loky.process_executor._RemoteTraceback: \n",
      "\"\"\"\n",
      "Traceback (most recent call last):\n",
      "  File \"c:\\Anaconda3\\lib\\site-packages\\joblib\\externals\\loky\\process_executor.py\", line 436, in _process_worker\n",
      "    r = call_item()\n",
      "  File \"c:\\Anaconda3\\lib\\site-packages\\joblib\\externals\\loky\\process_executor.py\", line 288, in __call__\n",
      "    return self.fn(*self.args, **self.kwargs)\n",
      "  File \"c:\\Anaconda3\\lib\\site-packages\\joblib\\_parallel_backends.py\", line 595, in __call__\n",
      "    return self.func(*args, **kwargs)\n",
      "  File \"c:\\Anaconda3\\lib\\site-packages\\joblib\\parallel.py\", line 262, in __call__\n",
      "    return [func(*args, **kwargs)\n",
      "  File \"c:\\Anaconda3\\lib\\site-packages\\joblib\\parallel.py\", line 262, in <listcomp>\n",
      "    return [func(*args, **kwargs)\n",
      "  File \"c:\\Anaconda3\\lib\\site-packages\\sklearn\\utils\\fixes.py\", line 216, in __call__\n",
      "    return self.function(*args, **kwargs)\n",
      "  File \"c:\\Anaconda3\\lib\\site-packages\\sklearn\\ensemble\\_forest.py\", line 185, in _parallel_build_trees\n",
      "    tree.fit(X, y, sample_weight=curr_sample_weight, check_input=False)\n",
      "  File \"c:\\Anaconda3\\lib\\site-packages\\sklearn\\tree\\_classes.py\", line 1315, in fit\n",
      "    super().fit(\n",
      "  File \"c:\\Anaconda3\\lib\\site-packages\\sklearn\\tree\\_classes.py\", line 308, in fit\n",
      "    raise ValueError(\"max_features must be in (0, n_features]\")\n",
      "ValueError: max_features must be in (0, n_features]\n",
      "\"\"\"\n",
      "\n",
      "The above exception was the direct cause of the following exception:\n",
      "\n",
      "Traceback (most recent call last):\n",
      "  File \"c:\\Anaconda3\\lib\\site-packages\\sklearn\\model_selection\\_validation.py\", line 680, in _fit_and_score\n",
      "    estimator.fit(X_train, y_train, **fit_params)\n",
      "  File \"c:\\Anaconda3\\lib\\site-packages\\sklearn\\ensemble\\_forest.py\", line 450, in fit\n",
      "    trees = Parallel(\n",
      "  File \"c:\\Anaconda3\\lib\\site-packages\\joblib\\parallel.py\", line 1056, in __call__\n",
      "    self.retrieve()\n",
      "  File \"c:\\Anaconda3\\lib\\site-packages\\joblib\\parallel.py\", line 935, in retrieve\n",
      "    self._output.extend(job.get(timeout=self.timeout))\n",
      "  File \"c:\\Anaconda3\\lib\\site-packages\\joblib\\_parallel_backends.py\", line 542, in wrap_future_result\n",
      "    return future.result(timeout=timeout)\n",
      "  File \"c:\\Anaconda3\\lib\\concurrent\\futures\\_base.py\", line 446, in result\n",
      "    return self.__get_result()\n",
      "  File \"c:\\Anaconda3\\lib\\concurrent\\futures\\_base.py\", line 391, in __get_result\n",
      "    raise self._exception\n",
      "ValueError: max_features must be in (0, n_features]\n",
      "\n",
      "  warnings.warn(some_fits_failed_message, FitFailedWarning)\n",
      "c:\\Anaconda3\\lib\\site-packages\\sklearn\\model_selection\\_search.py:969: UserWarning: One or more of the test scores are non-finite: [0.98826244 0.98995381 0.98954141 0.98949827 0.99083532 0.99603245\n",
      " 0.99708776 0.99661222 0.99712064 0.99700029        nan        nan\n",
      "        nan        nan        nan        nan        nan        nan\n",
      "        nan        nan]\n",
      "  warnings.warn(\n"
     ]
    },
    {
     "data": {
      "text/plain": [
       "GridSearchCV(cv=5, estimator=RandomForestRegressor(n_jobs=-1, random_state=0),\n",
       "             param_grid=[{'max_features': [2, 4, 6, 8],\n",
       "                          'n_estimators': [3, 10, 30, 50, 100]}])"
      ]
     },
     "execution_count": 55,
     "metadata": {},
     "output_type": "execute_result"
    }
   ],
   "source": [
    "from sklearn.model_selection import GridSearchCV\n",
    "param_grid = [\n",
    "    {'n_estimators':[3,10,30,50,100], 'max_features':[2,4,6,8]},\n",
    "]\n",
    "forest_reg = RandomForestRegressor(random_state=0, n_jobs=-1)\n",
    "grid_search = GridSearchCV(forest_reg, param_grid, cv=5)\n",
    "grid_search.fit(X_train, y_train)"
   ]
  },
  {
   "cell_type": "code",
   "execution_count": 57,
   "metadata": {},
   "outputs": [
    {
     "data": {
      "text/plain": [
       "{'max_features': 4, 'n_estimators': 50}"
      ]
     },
     "execution_count": 57,
     "metadata": {},
     "output_type": "execute_result"
    }
   ],
   "source": [
    "grid_search.best_params_"
   ]
  },
  {
   "cell_type": "code",
   "execution_count": 58,
   "metadata": {},
   "outputs": [
    {
     "data": {
      "text/plain": [
       "RandomForestRegressor(max_features=4, n_estimators=50, n_jobs=-1,\n",
       "                      random_state=0)"
      ]
     },
     "execution_count": 58,
     "metadata": {},
     "output_type": "execute_result"
    }
   ],
   "source": [
    "grid_search.best_estimator_"
   ]
  },
  {
   "cell_type": "code",
   "execution_count": 59,
   "metadata": {},
   "outputs": [
    {
     "data": {
      "text/plain": [
       "<BarContainer object of 5 artists>"
      ]
     },
     "execution_count": 59,
     "metadata": {},
     "output_type": "execute_result"
    },
    {
     "data": {
      "image/png": "[encoded data removed]",
      "text/plain": [
       "<Figure size 640x480 with 1 Axes>"
      ]
     },
     "metadata": {},
     "output_type": "display_data"
    }
   ],
   "source": [
    "feature_importances = grid_search.best_estimator_.feature_importances_\n",
    "plt.bar(range(len(feature_importances)), feature_importances)"
   ]
  },
  {
   "cell_type": "code",
   "execution_count": 62,
   "metadata": {},
   "outputs": [
    {
     "name": "stdout",
     "output_type": "stream",
     "text": [
      "0.9990263723769268 {'max_features': 5, 'n_estimators': 48}\n",
      "nan {'max_features': 6, 'n_estimators': 65}\n",
      "0.9985695410674859 {'max_features': 4, 'n_estimators': 68}\n",
      "0.9953313873598575 {'max_features': 2, 'n_estimators': 84}\n",
      "nan {'max_features': 6, 'n_estimators': 37}\n",
      "nan {'max_features': 7, 'n_estimators': 89}\n",
      "0.9905099410722076 {'max_features': 1, 'n_estimators': 13}\n",
      "0.9973372120261834 {'max_features': 3, 'n_estimators': 66}\n",
      "nan {'max_features': 7, 'n_estimators': 40}\n",
      "nan {'max_features': 7, 'n_estimators': 89}\n"
     ]
    },
    {
     "name": "stderr",
     "output_type": "stream",
     "text": [
      "c:\\Anaconda3\\lib\\site-packages\\sklearn\\model_selection\\_validation.py:372: FitFailedWarning: \n",
      "25 fits failed out of a total of 50.\n",
      "The score on these train-test partitions for these parameters will be set to nan.\n",
      "If these failures are not expected, you can try to debug them by setting error_score='raise'.\n",
      "\n",
      "Below are more details about the failures:\n",
      "--------------------------------------------------------------------------------\n",
      "25 fits failed with the following error:\n",
      "joblib.externals.loky.process_executor._RemoteTraceback: \n",
      "\"\"\"\n",
      "Traceback (most recent call last):\n",
      "  File \"c:\\Anaconda3\\lib\\site-packages\\joblib\\externals\\loky\\process_executor.py\", line 436, in _process_worker\n",
      "    r = call_item()\n",
      "  File \"c:\\Anaconda3\\lib\\site-packages\\joblib\\externals\\loky\\process_executor.py\", line 288, in __call__\n",
      "    return self.fn(*self.args, **self.kwargs)\n",
      "  File \"c:\\Anaconda3\\lib\\site-packages\\joblib\\_parallel_backends.py\", line 595, in __call__\n",
      "    return self.func(*args, **kwargs)\n",
      "  File \"c:\\Anaconda3\\lib\\site-packages\\joblib\\parallel.py\", line 262, in __call__\n",
      "    return [func(*args, **kwargs)\n",
      "  File \"c:\\Anaconda3\\lib\\site-packages\\joblib\\parallel.py\", line 262, in <listcomp>\n",
      "    return [func(*args, **kwargs)\n",
      "  File \"c:\\Anaconda3\\lib\\site-packages\\sklearn\\utils\\fixes.py\", line 216, in __call__\n",
      "    return self.function(*args, **kwargs)\n",
      "  File \"c:\\Anaconda3\\lib\\site-packages\\sklearn\\ensemble\\_forest.py\", line 185, in _parallel_build_trees\n",
      "    tree.fit(X, y, sample_weight=curr_sample_weight, check_input=False)\n",
      "  File \"c:\\Anaconda3\\lib\\site-packages\\sklearn\\tree\\_classes.py\", line 1315, in fit\n",
      "    super().fit(\n",
      "  File \"c:\\Anaconda3\\lib\\site-packages\\sklearn\\tree\\_classes.py\", line 308, in fit\n",
      "    raise ValueError(\"max_features must be in (0, n_features]\")\n",
      "ValueError: max_features must be in (0, n_features]\n",
      "\"\"\"\n",
      "\n",
      "The above exception was the direct cause of the following exception:\n",
      "\n",
      "Traceback (most recent call last):\n",
      "  File \"c:\\Anaconda3\\lib\\site-packages\\sklearn\\model_selection\\_validation.py\", line 680, in _fit_and_score\n",
      "    estimator.fit(X_train, y_train, **fit_params)\n",
      "  File \"c:\\Anaconda3\\lib\\site-packages\\sklearn\\ensemble\\_forest.py\", line 450, in fit\n",
      "    trees = Parallel(\n",
      "  File \"c:\\Anaconda3\\lib\\site-packages\\joblib\\parallel.py\", line 1056, in __call__\n",
      "    self.retrieve()\n",
      "  File \"c:\\Anaconda3\\lib\\site-packages\\joblib\\parallel.py\", line 935, in retrieve\n",
      "    self._output.extend(job.get(timeout=self.timeout))\n",
      "  File \"c:\\Anaconda3\\lib\\site-packages\\joblib\\_parallel_backends.py\", line 542, in wrap_future_result\n",
      "    return future.result(timeout=timeout)\n",
      "  File \"c:\\Anaconda3\\lib\\concurrent\\futures\\_base.py\", line 446, in result\n",
      "    return self.__get_result()\n",
      "  File \"c:\\Anaconda3\\lib\\concurrent\\futures\\_base.py\", line 391, in __get_result\n",
      "    raise self._exception\n",
      "ValueError: max_features must be in (0, n_features]\n",
      "\n",
      "  warnings.warn(some_fits_failed_message, FitFailedWarning)\n",
      "c:\\Anaconda3\\lib\\site-packages\\sklearn\\model_selection\\_search.py:969: UserWarning: One or more of the test scores are non-finite: [0.99805369        nan 0.99714113 0.99068457        nan        nan\n",
      " 0.98110994 0.99468151        nan        nan]\n",
      "  warnings.warn(\n"
     ]
    }
   ],
   "source": [
    "from sklearn.model_selection import RandomizedSearchCV\n",
    "from scipy.stats import randint\n",
    "\n",
    "param_distribs = {\n",
    "    'n_estimators':randint(low=1, high=100),\n",
    "    'max_features' : randint(low=1, high=8),\n",
    "}\n",
    "forest_reg =RandomForestRegressor(random_state=0, n_jobs=-1)\n",
    "rnd_search = RandomizedSearchCV(forest_reg, param_distributions=param_distribs, cv=5, random_state=0)\n",
    "rnd_search.fit(X_train, y_train)\n",
    "cvres =rnd_search.cv_results_\n",
    "for mean_score, params in zip(cvres[\"mean_test_score\"], cvres[\"params\"]):\n",
    "    print(np.sqrt(mean_score), params)\n",
    "     "
   ]
  },
  {
   "cell_type": "code",
   "execution_count": 63,
   "metadata": {},
   "outputs": [
    {
     "data": {
      "text/plain": [
       "RandomForestRegressor(max_features=5, n_estimators=48, n_jobs=-1,\n",
       "                      random_state=0)"
      ]
     },
     "execution_count": 63,
     "metadata": {},
     "output_type": "execute_result"
    }
   ],
   "source": [
    "rnd_search.best_estimator_"
   ]
  },
  {
   "cell_type": "code",
   "execution_count": 65,
   "metadata": {},
   "outputs": [
    {
     "name": "stdout",
     "output_type": "stream",
     "text": [
      "0.46515219498292815\n"
     ]
    }
   ],
   "source": [
    "final_model = rnd_search.best_estimator_\n",
    "y_pred =final_model.predict(X_test)\n",
    "rms = np.sqrt(mean_squared_error(y_test, y_pred))\n",
    "print(rms)"
   ]
  },
  {
   "cell_type": "code",
   "execution_count": null,
   "metadata": {},
   "outputs": [],
   "source": []
  },
  {
   "cell_type": "code",
   "execution_count": null,
   "metadata": {},
   "outputs": [],
   "source": []
  },
  {
   "cell_type": "code",
   "execution_count": null,
   "metadata": {},
   "outputs": [],
   "source": []
  },
  {
   "cell_type": "code",
   "execution_count": null,
   "metadata": {},
   "outputs": [],
   "source": []
  },
  {
   "cell_type": "code",
   "execution_count": null,
   "metadata": {},
   "outputs": [],
   "source": []
  },
  {
   "cell_type": "code",
   "execution_count": null,
   "metadata": {},
   "outputs": [],
   "source": []
  },
  {
   "cell_type": "code",
   "execution_count": null,
   "metadata": {},
   "outputs": [],
   "source": []
  },
  {
   "cell_type": "code",
   "execution_count": null,
   "metadata": {},
   "outputs": [],
   "source": []
  },
  {
   "cell_type": "code",
   "execution_count": null,
   "metadata": {},
   "outputs": [],
   "source": []
  },
  {
   "cell_type": "code",
   "execution_count": null,
   "metadata": {},
   "outputs": [],
   "source": []
  },
  {
   "cell_type": "code",
   "execution_count": null,
   "metadata": {},
   "outputs": [],
   "source": []
  },
  {
   "cell_type": "code",
   "execution_count": null,
   "metadata": {},
   "outputs": [],
   "source": []
  },
  {
   "cell_type": "code",
   "execution_count": null,
   "metadata": {},
   "outputs": [],
   "source": []
  },
  {
   "cell_type": "code",
   "execution_count": null,
   "metadata": {},
   "outputs": [],
   "source": [
    "#변수 16개 데이터 생성\n",
    "df1=df[['면적당가격','전용면적','층', '건축년도','미국달러', '일본엔','유로','소비자물가지수',\n",
    "        '주택담보대출금리', 'KOSPI_종가', 'KOSDAQ_종가','콜금리_1일','KORIBOR_3개월','CD_91일',\n",
    "        '국고채_1년','국고채_10년']]\n",
    "df1.head(3)"
   ]
  },
  {
   "cell_type": "code",
   "execution_count": null,
   "metadata": {},
   "outputs": [],
   "source": [
    "# 상관관계\n",
    "df1.corr()"
   ]
  },
  {
   "cell_type": "code",
   "execution_count": null,
   "metadata": {},
   "outputs": [],
   "source": [
    "#상관관계 히트맵\n",
    "plt.figure(figsize = (10,8))\n",
    "cmap = sns.light_palette('green', as_cmap=True)\n",
    "sns.heatmap(df1.corr(),annot=True, cmap=cmap)\n",
    "plt.show()"
   ]
  },
  {
   "cell_type": "code",
   "execution_count": null,
   "metadata": {},
   "outputs": [],
   "source": [
    "# 16개 변수 다중회귀분석\n",
    "X=df1[['전용면적','층','건축년도','주택담보대출금리','미국달러', '일본엔','유로', '소비자물가지수', 'KOSPI_종가' ,'KOSDAQ_종가', \n",
    "        '콜금리_1일','KORIBOR_3개월','CD_91일' , '국고채_1년','국고채_10년']]\n",
    "y=df1['면적당가격']\n",
    "\n",
    "import statsmodels.api as sm\n",
    "\n",
    "model = sm.OLS(y, X)\n",
    "result = model.fit()\n",
    "print(\"모형의적합성_R2 :\",result.rsquared)\n",
    "print(\"P-value:\\n\",result.pvalues)\n",
    "result.summary()"
   ]
  },
  {
   "cell_type": "code",
   "execution_count": null,
   "metadata": {},
   "outputs": [],
   "source": [
    "from sklearn.model_selection import train_test_split\n",
    "X_train, X_test, y_train, y_test = train_test_split(X, y, test_size=0.2, random_state=7)\n",
    "print(X_train.shape, X_test.shape)"
   ]
  },
  {
   "cell_type": "code",
   "execution_count": null,
   "metadata": {},
   "outputs": [],
   "source": [
    "from keras.models import Sequential\n",
    "from keras.layers import Dense\n",
    "model = Sequential()\n",
    "model.add(Dense(8,input_shape=(len(X_train.columns),),activation='relu'))\n",
    "model.add(Dense(4,activation='relu'))\n",
    "model.add(Dense(1))\n",
    "model.compile(loss='mse', optimizer='adam', metrics=['mse', 'mae'])\n",
    "model.summary()"
   ]
  },
  {
   "cell_type": "code",
   "execution_count": null,
   "metadata": {},
   "outputs": [],
   "source": [
    "X_train.boxplot()\n",
    "from sklearn.preprocessing import StandardScaler\n",
    "scaler=StandardScaler()\n",
    "scaler.fit(X_train)\n",
    "X_train_scaled=scaler.transform(X_train)\n",
    "X_test_scaled=scaler.transform(X_test)\n",
    "X_train_scaled=pd.DataFrame(X_train_scaled)\n",
    "X_test_scaled=pd.DataFrame(X_test_scaled)"
   ]
  },
  {
   "cell_type": "code",
   "execution_count": null,
   "metadata": {},
   "outputs": [],
   "source": [
    "import matplotlib.pyplot as plt\n",
    "X_train_scaled.boxplot()\n",
    "plt.show()"
   ]
  },
  {
   "cell_type": "code",
   "execution_count": null,
   "metadata": {},
   "outputs": [],
   "source": [
    "from keras.callbacks import EarlyStopping\n",
    "EarlyStopping = EarlyStopping(monitor='val_loss', patience=50)\n",
    "hist = model.fit(X_train_scaled, y_train, epochs=15, \n",
    "                 validation_split=0.2, callbacks=[EarlyStopping])"
   ]
  },
  {
   "cell_type": "code",
   "execution_count": null,
   "metadata": {},
   "outputs": [],
   "source": [
    "plt.plot(hist.history['loss'])\n",
    "plt.plot(hist.history['val_loss'])\n",
    "plt.legend(['loss', 'val_loss'])\n",
    "plt.show()"
   ]
  },
  {
   "cell_type": "code",
   "execution_count": null,
   "metadata": {},
   "outputs": [],
   "source": [
    "plt.plot(hist.history['mse'])\n",
    "plt.plot(hist.history['val_mse'])\n",
    "plt.legend(['mse', 'val_mse'])\n",
    "plt.show()"
   ]
  },
  {
   "cell_type": "code",
   "execution_count": null,
   "metadata": {},
   "outputs": [],
   "source": [
    "plt.plot(hist.history['mae'])\n",
    "plt.plot(hist.history['val_mae'])\n",
    "plt.legend(['mae', 'val_mae'])\n",
    "plt.show()"
   ]
  },
  {
   "cell_type": "code",
   "execution_count": null,
   "metadata": {},
   "outputs": [],
   "source": [
    "scores = model.evaluate(X_train_scaled, y_train)\n",
    "print(scores)\n",
    "\n",
    "scores = model.evaluate(X_test_scaled, y_test)\n",
    "print(scores)"
   ]
  },
  {
   "cell_type": "code",
   "execution_count": null,
   "metadata": {},
   "outputs": [],
   "source": [
    "from sklearn.metrics import r2_score\n",
    "pred=model.predict(X_test_scaled)\n",
    "r2_score(y_test, pred) "
   ]
  },
  {
   "cell_type": "code",
   "execution_count": null,
   "metadata": {},
   "outputs": [],
   "source": []
  },
  {
   "cell_type": "code",
   "execution_count": null,
   "metadata": {},
   "outputs": [],
   "source": []
  },
  {
   "cell_type": "code",
   "execution_count": null,
   "metadata": {},
   "outputs": [],
   "source": [
    "## 16개 변수 VIF 산출\n",
    "from statsmodels.stats.outliers_influence import variance_inflation_factor  \n",
    "\n",
    "vif = pd.DataFrame()\n",
    "vif['VIF']=[variance_inflation_factor(df1.values, i) for i in range(df1.shape[1])]\n",
    "vif['독립변수'] = df1.columns\n",
    "vif =vif.sort_values('VIF').reset_index(drop=True)\n",
    "vif  "
   ]
  },
  {
   "cell_type": "code",
   "execution_count": null,
   "metadata": {},
   "outputs": [],
   "source": []
  },
  {
   "cell_type": "code",
   "execution_count": null,
   "metadata": {},
   "outputs": [],
   "source": [
    "ㄹ개ㅡ "
   ]
  },
  {
   "cell_type": "code",
   "execution_count": null,
   "metadata": {},
   "outputs": [],
   "source": []
  },
  {
   "cell_type": "code",
   "execution_count": null,
   "metadata": {},
   "outputs": [],
   "source": []
  },
  {
   "cell_type": "code",
   "execution_count": null,
   "metadata": {},
   "outputs": [],
   "source": []
  },
  {
   "cell_type": "code",
   "execution_count": null,
   "metadata": {},
   "outputs": [],
   "source": []
  },
  {
   "cell_type": "code",
   "execution_count": null,
   "metadata": {},
   "outputs": [],
   "source": []
  },
  {
   "cell_type": "code",
   "execution_count": null,
   "metadata": {},
   "outputs": [],
   "source": [
    "# 8개 변수 데이터 생성\n",
    "df_X= df1[['면적당가격','전용면적','층', '건축년도','KOSDAQ_종가', '미국달러', \n",
    "         '소비자물가지수','주택담보대출금리']]\n",
    "df_X.head(3)"
   ]
  },
  {
   "cell_type": "code",
   "execution_count": null,
   "metadata": {},
   "outputs": [],
   "source": [
    "#VIF 큰 값, 비슷한 성격 제외 7개 독립 변수 데이터 생성\n",
    "df2=df1[['전용면적','층', '건축년도','KOSDAQ_종가', '미국달러', \n",
    "         '소비자물가지수','주택담보대출금리']]\n",
    "df2.head(3)"
   ]
  },
  {
   "cell_type": "code",
   "execution_count": null,
   "metadata": {},
   "outputs": [],
   "source": [
    "# 종속 변수 데이터 생성\n",
    "df_y= df1[['면적당가격']]\n",
    "df_y.head(3)"
   ]
  },
  {
   "cell_type": "code",
   "execution_count": null,
   "metadata": {},
   "outputs": [],
   "source": [
    "sns.pairplot(df2[['전용면적', '층', '건축년도', 'KOSDAQ_종가','미국달러', \n",
    "                  '소비자물가지수','주택담보대출금리']].sample(frac=0.05))\n",
    "plt.show()"
   ]
  },
  {
   "cell_type": "code",
   "execution_count": null,
   "metadata": {},
   "outputs": [],
   "source": [
    "# VIF 큰 값 제외한 다중회귀분석 (7개 독립변수)\n",
    "# 16개변수 적용시와 비교 결과 : 적합성 다소 떨어짐 0.805->0.80 / 조건수 높아짐   0.0000133 -> 0.00431\n",
    "X=df_X[['전용면적','층','건축년도', '미국달러', '소비자물가지수',  'KOSDAQ_종가','주택담보대출금리']]\n",
    "y=df_X['면적당가격']\n",
    "\n",
    "import statsmodels.api as sm\n",
    "\n",
    "model = sm.OLS(y, X)\n",
    "result = model.fit()\n",
    "print(\"모형의적합성_R2 :\",result.rsquared)\n",
    "print(\"P-value:\\n\",result.pvalues)\n",
    "result.summary()"
   ]
  },
  {
   "cell_type": "code",
   "execution_count": null,
   "metadata": {},
   "outputs": [],
   "source": [
    "# formular 형태 분석 시 R 값 0.236 \n",
    "import statsmodels.formula.api as smf\n",
    "\n",
    "model = smf.ols(\n",
    "    formula= \n",
    "    '면적당가격 ~ 전용면적 + 층 + 건축년도 + 미국달러 + 소비자물가지수 + KOSDAQ_종가 + 주택담보대출금리'\n",
    "    ,data=df_X).fit()\n",
    "model.summary()"
   ]
  },
  {
   "attachments": {},
   "cell_type": "markdown",
   "metadata": {},
   "source": [
    "## 변수별 적합성 검토"
   ]
  },
  {
   "cell_type": "code",
   "execution_count": null,
   "metadata": {},
   "outputs": [],
   "source": [
    "# 비슷한 유형별 변수 교체 (미국달러->일본엔)다중회귀분석 \n",
    "# 결과 : 적합성 낮아짐 0.80->0.798 / 조건수 낮아짐   0.00431 -> 0.00394\n",
    "X=df1[['전용면적','층','건축년도', '일본엔', '소비자물가지수',  'KOSDAQ_종가','주택담보대출금리']]\n",
    "y=df1['면적당가격']\n",
    "\n",
    "import statsmodels.api as sm\n",
    "\n",
    "model = sm.OLS(y, X)\n",
    "result = model.fit()\n",
    "print(\"모형의적합성_R2 :\",result.rsquared)\n",
    "print(\"P-value:\\n\",result.pvalues)\n",
    "result.summary()  "
   ]
  },
  {
   "cell_type": "code",
   "execution_count": null,
   "metadata": {},
   "outputs": [],
   "source": [
    "# 비슷한 유형별 변수 교체 (일본엔->유로)다중회귀분석 -> 미국달러가 가장 적합성 높음\n",
    "# 결과 : 적합성 높아짐 0.798->0.8 / 조건수 높아짐   0.00394 -> 0.00508\n",
    "X=df1[['전용면적','층','건축년도', '유로', '소비자물가지수',  'KOSDAQ_종가','주택담보대출금리']]\n",
    "y=df1['면적당가격']\n",
    "\n",
    "import statsmodels.api as sm\n",
    "\n",
    "model = sm.OLS(y, X)\n",
    "result = model.fit()\n",
    "print(\"모형의적합성_R2 :\",result.rsquared)\n",
    "print(\"P-value:\\n\",result.pvalues)\n",
    "result.summary()  "
   ]
  },
  {
   "cell_type": "code",
   "execution_count": null,
   "metadata": {},
   "outputs": [],
   "source": [
    "# 비슷한 유형별 변수 교체 (KOSDAQ->KOSPI)다중회귀분석 -> KOSDAQ 적합성 높음\n",
    "# 결과 : 적합성 떨어짐 0.80->0.796  / 조건수 높아짐   0.00431 -> 0.00588\n",
    "X=df1[['전용면적','층','건축년도', '미국달러', '소비자물가지수',  'KOSPI_종가','주택담보대출금리']]\n",
    "y=df1['면적당가격']\n",
    "\n",
    "import statsmodels.api as sm\n",
    "\n",
    "model = sm.OLS(y, X)\n",
    "result = model.fit()\n",
    "print(\"모형의적합성_R2 :\",result.rsquared)\n",
    "print(\"P-value:\\n\",result.pvalues)\n",
    "result.summary() "
   ]
  },
  {
   "cell_type": "code",
   "execution_count": null,
   "metadata": {},
   "outputs": [],
   "source": [
    "# 비슷한 유형별 변수 교체 (주택담보대출->콜금리) 다중회귀분석  \n",
    "# 결과 : 적합성 낮아짐 0.8->0.798  / 조건수 높아짐   0.00431 -> 0.00436\n",
    "X=df1[['전용면적','층','건축년도', '미국달러', '소비자물가지수',  'KOSDAQ_종가','콜금리_1일']]\n",
    "y=df1['면적당가격']\n",
    "\n",
    "import statsmodels.api as sm\n",
    "\n",
    "model = sm.OLS(y, X)\n",
    "result = model.fit()\n",
    "print(\"모형의적합성_R2 :\",result.rsquared)\n",
    "print(\"P-value:\\n\",result.pvalues)\n",
    "result.summary()"
   ]
  },
  {
   "cell_type": "code",
   "execution_count": null,
   "metadata": {},
   "outputs": [],
   "source": [
    "# 비슷한 유형별 변수 교체 (콜금리->KORIBOR_3개월) 다중회귀분석  \n",
    "# 결과 : 적합성 같음 0.798->0.798  / 조건수 낮아짐   0.00436 -> 0.00413\n",
    "X=df1[['전용면적','층','건축년도', '미국달러', '소비자물가지수',  'KOSDAQ_종가','KORIBOR_3개월']]\n",
    "y=df1['면적당가격']\n",
    "\n",
    "import statsmodels.api as sm\n",
    "\n",
    "model = sm.OLS(y, X)\n",
    "result = model.fit()\n",
    "print(\"모형의적합성_R2 :\",result.rsquared)\n",
    "print(\"P-value:\\n\",result.pvalues)\n",
    "result.summary()"
   ]
  },
  {
   "cell_type": "code",
   "execution_count": null,
   "metadata": {},
   "outputs": [],
   "source": [
    "# 비슷한 유형별 변수 교체 (KORIBOR_3개월->CD_91일) 다중회귀분석  \n",
    "# 결과 : 적합성 같음 0.798->0.798  / 조건수 높아짐   0.00413 -> 0.00416\n",
    "X=df1[['전용면적','층','건축년도', '미국달러', '소비자물가지수',  'KOSDAQ_종가','CD_91일']]\n",
    "y=df1['면적당가격']\n",
    "\n",
    "import statsmodels.api as sm\n",
    "\n",
    "model = sm.OLS(y, X)\n",
    "result = model.fit()\n",
    "print(\"모형의적합성_R2 :\",result.rsquared)\n",
    "print(\"P-value:\\n\",result.pvalues)\n",
    "result.summary()"
   ]
  },
  {
   "cell_type": "code",
   "execution_count": null,
   "metadata": {},
   "outputs": [],
   "source": [
    "# 비슷한 유형별 변수 교체 (CD_91일->국고채_1년) 다중회귀분석  -> 주택담보대출금리 적합성 가장 높음\n",
    "# 결과 : 적합성 같음 0.798->0.798  / 조건수 높아짐   0.00413 -> 0.00452\n",
    "X=df1[['전용면적','층','건축년도', '미국달러', '소비자물가지수',  'KOSDAQ_종가','국고채_1년']]\n",
    "y=df1['면적당가격']\n",
    "\n",
    "import statsmodels.api as sm\n",
    "\n",
    "model = sm.OLS(y, X)\n",
    "result = model.fit()\n",
    "print(\"모형의적합성_R2 :\",result.rsquared)\n",
    "print(\"P-value:\\n\",result.pvalues)\n",
    "result.summary()"
   ]
  },
  {
   "cell_type": "code",
   "execution_count": null,
   "metadata": {},
   "outputs": [],
   "source": [
    "# 비슷한 유형별 변수 교체 (국고채_1년->국고채_10년) 다중회귀분석  -> 주택담보대출금리 적합성 가장 높음\n",
    "# 결과 : 적합성 높아짐 0.798->0.799  / 조건수 낮아짐   0.00452 -> 0.00389\n",
    "X=df1[['전용면적','층','건축년도', '미국달러', '소비자물가지수',  'KOSDAQ_종가','국고채_10년']]\n",
    "y=df1['면적당가격']\n",
    "\n",
    "import statsmodels.api as sm\n",
    "\n",
    "model = sm.OLS(y, X)\n",
    "result = model.fit()\n",
    "print(\"모형의적합성_R2 :\",result.rsquared)\n",
    "print(\"P-value:\\n\",result.pvalues)\n",
    "result.summary()"
   ]
  },
  {
   "attachments": {},
   "cell_type": "markdown",
   "metadata": {},
   "source": [
    "## 변수별 예측"
   ]
  },
  {
   "cell_type": "code",
   "execution_count": null,
   "metadata": {},
   "outputs": [],
   "source": [
    "from sklearn.linear_model import LinearRegression\n",
    "model = LinearRegression()\n",
    "x=df1[['전용면적', '층', '미국달러','소비자물가지수', \n",
    "       'KOSDAQ_종가','주택담보대출금리']]      \n",
    "y=df1[['면적당가격']] \n",
    "model.fit(x,y)"
   ]
  },
  {
   "cell_type": "code",
   "execution_count": null,
   "metadata": {},
   "outputs": [],
   "source": [
    "#전용면적 상승, 나머지 변수 평균값 적용: 면적당 가격 885 => 가장 낮음\n",
    "전용면적 = 500\n",
    "층 = 9\n",
    "미국달러 = 1123\n",
    "소비자물가지수 = 93  \n",
    "KOSDAQ_종가 = 651  \n",
    "주택담보대출금리 = 3.8\n",
    "\n",
    "\n",
    "Predict = [전용면적, 층, 미국달러 ,소비자물가지수, KOSDAQ_종가, 주택담보대출금리]\n",
    "price1 = model.predict([Predict])\n",
    "price1"
   ]
  },
  {
   "cell_type": "code",
   "execution_count": null,
   "metadata": {},
   "outputs": [],
   "source": [
    "#층 상승 , 나머지 변수 평균값 적용: 면적당 가격 1173 \n",
    "전용면적 = 77\n",
    "층 = 80\n",
    "미국달러 = 1123\n",
    "소비자물가지수 = 93  \n",
    "KOSDAQ_종가 = 651  \n",
    "주택담보대출금리 = 3.8\n",
    "\n",
    "\n",
    "Predict = [전용면적, 층, 미국달러 ,소비자물가지수, KOSDAQ_종가, 주택담보대출금리]\n",
    "price2 = model.predict([Predict])\n",
    "price2"
   ]
  },
  {
   "cell_type": "code",
   "execution_count": null,
   "metadata": {},
   "outputs": [],
   "source": [
    "#미국달러 상승 , 나머지 변수 평균값 적용: 면적당 가격 1186\n",
    "전용면적 = 77\n",
    "층 = 9\n",
    "미국달러 = 1600\n",
    "소비자물가지수 = 93  \n",
    "KOSDAQ_종가 = 651  \n",
    "주택담보대출금리 = 3.8\n",
    "\n",
    "\n",
    "Predict = [전용면적, 층, 미국달러 ,소비자물가지수, KOSDAQ_종가, 주택담보대출금리]\n",
    "price3 = model.predict([Predict])\n",
    "price3"
   ]
  },
  {
   "cell_type": "code",
   "execution_count": null,
   "metadata": {},
   "outputs": [],
   "source": [
    "#소비자물가지수 상승 , 나머지 변수 평균값 적용: 면적당 가격 1399  => 가장 높음\n",
    "전용면적 = 77\n",
    "층 = 9\n",
    "미국달러 = 1123\n",
    "소비자물가지수 = 120  \n",
    "KOSDAQ_종가 = 651  \n",
    "주택담보대출금리 = 3.8\n",
    "\n",
    "\n",
    "Predict = [전용면적, 층, 미국달러 ,소비자물가지수, KOSDAQ_종가, 주택담보대출금리]\n",
    "price4 = model.predict([Predict])\n",
    "price4"
   ]
  },
  {
   "cell_type": "code",
   "execution_count": null,
   "metadata": {},
   "outputs": [],
   "source": [
    "#KOSDAQ_종가 상승 , 나머지 변수 평균값 적용: 면적당 가격 1132\n",
    "전용면적 = 77\n",
    "층 = 9\n",
    "미국달러 = 1123\n",
    "소비자물가지수 = 93  \n",
    "KOSDAQ_종가 = 1100  \n",
    "주택담보대출금리 = 3.8\n",
    "\n",
    "\n",
    "Predict = [전용면적, 층, 미국달러 ,소비자물가지수, KOSDAQ_종가, 주택담보대출금리]\n",
    "price5 = model.predict([Predict])\n",
    "price5"
   ]
  },
  {
   "cell_type": "code",
   "execution_count": null,
   "metadata": {},
   "outputs": [],
   "source": [
    "#극고채_10년 상승 , 나머지 변수 평균값 적용: 면적당 가격 1035 \n",
    "전용면적 = 77\n",
    "층 = 9\n",
    "미국달러 = 1123\n",
    "소비자물가지수 = 93  \n",
    "KOSDAQ_종가 = 651  \n",
    "주택담보대출금리 = 8\n",
    "\n",
    "\n",
    "Predict = [전용면적, 층, 미국달러 ,소비자물가지수, KOSDAQ_종가, 주택담보대출금리]\n",
    "price6 = model.predict([Predict])\n",
    "price6"
   ]
  },
  {
   "attachments": {},
   "cell_type": "markdown",
   "metadata": {},
   "source": [
    "## 모델적합성 개선 \n",
    "### - 후진제거법/P-value 큰 것 2개 전용면적, 주택담보대출금리 제거\n",
    "#### -- 결과 : 개별 변수들의 P-value 모두 유효함 ->  R2 값 0.80 에서 개선 없음  \n",
    " "
   ]
  },
  {
   "cell_type": "code",
   "execution_count": null,
   "metadata": {},
   "outputs": [],
   "source": [
    "# 전용면적 변수 제거(7개 변수 적용시 P-value = 7.000179e-261) -> R2=0.80\n",
    "X=df1[['주택담보대출금리','층','건축년도', '미국달러', '소비자물가지수',  'KOSDAQ_종가']]\n",
    "y=df1['면적당가격']\n",
    "\n",
    "import statsmodels.api as sm\n",
    "\n",
    "model = sm.OLS(y, X)\n",
    "result = model.fit()\n",
    "print(\"모형의적합성_R2 :\",result.rsquared)\n",
    "print(\"P-value:\\n\",result.pvalues)\n",
    "result.summary()"
   ]
  },
  {
   "cell_type": "code",
   "execution_count": null,
   "metadata": {},
   "outputs": [],
   "source": [
    "# 주택담보대출금리 변수 제거(16개 변수 적용시 P-value = 2.796779e-43) -> R2=0.797\n",
    "X=df1[['전용면적','층','건축년도', '미국달러', '소비자물가지수',  'KOSDAQ_종가']]\n",
    "y=df1['면적당가격']\n",
    "\n",
    "import statsmodels.api as sm\n",
    "\n",
    "model = sm.OLS(y, X)\n",
    "result = model.fit()\n",
    "print(\"모형의적합성_R2 :\",result.rsquared)\n",
    "print(\"P-value:\\n\",result.pvalues)\n",
    "result.summary()"
   ]
  },
  {
   "attachments": {},
   "cell_type": "markdown",
   "metadata": {},
   "source": [
    "## 교차검증\n",
    "### - 결과 \n",
    "#### -- 면적당 가격에 가장 큰 영향을 주는 특성은 주택담보대출금리이고\n",
    "#### -- 예측오차는 191.45 원이다.   "
   ]
  },
  {
   "cell_type": "code",
   "execution_count": null,
   "metadata": {},
   "outputs": [],
   "source": [
    "#정규화\n",
    "from sklearn.preprocessing import StandardScaler\n",
    "\n",
    "scaler = StandardScaler()\n",
    "scaler.fit(df2)\n",
    "scaled_df = scaler.transform(df2)\n",
    "scaled_df.shape"
   ]
  },
  {
   "cell_type": "code",
   "execution_count": null,
   "metadata": {},
   "outputs": [],
   "source": [
    "#학습용과 검증용을 8:2로 구분\n",
    "from sklearn.model_selection import train_test_split\n",
    "X_train, X_test, y_train, y_test = train_test_split(scaled_df, df_y, test_size=0.2, random_state=0)\n",
    "print(X_train.shape, X_test.shape)"
   ]
  },
  {
   "cell_type": "code",
   "execution_count": null,
   "metadata": {},
   "outputs": [],
   "source": [
    "from sklearn.linear_model import LinearRegression\n",
    "lin_reg = LinearRegression()\n",
    "lin_reg.fit(X_train, y_train)"
   ]
  },
  {
   "cell_type": "code",
   "execution_count": null,
   "metadata": {},
   "outputs": [],
   "source": [
    "# 평균제곱근오차 모형-> 오차 381\n",
    "from sklearn.metrics import mean_squared_error\n",
    "y_pred = lin_reg.predict(X_test)\n",
    "rms = np.sqrt(mean_squared_error(y_test, y_pred))\n",
    "print(rms)"
   ]
  },
  {
   "cell_type": "code",
   "execution_count": null,
   "metadata": {},
   "outputs": [],
   "source": [
    "# 의사결정 나무 모형 -> 오차 253\n",
    "from sklearn.tree import DecisionTreeRegressor\n",
    "tree_reg = DecisionTreeRegressor()\n",
    "tree_reg.fit(X_train, y_train)\n",
    "y_pred = tree_reg.predict(X_test)\n",
    "rms = np.sqrt(mean_squared_error(y_test, y_pred))\n",
    "print(rms)"
   ]
  },
  {
   "cell_type": "code",
   "execution_count": null,
   "metadata": {},
   "outputs": [],
   "source": [
    "# 랜덤 포레스트  -> 오차 192.8 로 가장 성능 좋은 모형\n",
    "from sklearn.ensemble import RandomForestRegressor\n",
    "forest_reg = RandomForestRegressor(n_jobs = -1) \n",
    "forest_reg.fit(X_train, y_train)\n",
    "\n",
    "y_pred = forest_reg.predict(X_test)\n",
    "rms = np.sqrt(mean_squared_error(y_test, y_pred))\n",
    "print(rms)"
   ]
  },
  {
   "cell_type": "code",
   "execution_count": null,
   "metadata": {},
   "outputs": [],
   "source": [
    "# 파라미터튜닝\n",
    "from sklearn.model_selection import GridSearchCV\n",
    "param_grid = [\n",
    " {'n_estimators': [3, 10, 30, 50, 100], 'max_features':[2, 4, 6, 8]},\n",
    " ]\n",
    " "
   ]
  },
  {
   "cell_type": "code",
   "execution_count": null,
   "metadata": {},
   "outputs": [],
   "source": [
    "from sklearn.model_selection import GridSearchCV\n",
    "forest_reg = RandomForestRegressor(random_state=0,n_jobs=-1)\n",
    "grid_search = GridSearchCV(forest_reg, param_grid, cv=2)\n",
    "grid_search.fit(X_train, y_train)"
   ]
  },
  {
   "cell_type": "code",
   "execution_count": null,
   "metadata": {},
   "outputs": [],
   "source": [
    "#최적파라미터\n",
    "grid_search.best_params_"
   ]
  },
  {
   "cell_type": "code",
   "execution_count": null,
   "metadata": {},
   "outputs": [],
   "source": [
    "#최적 모형\n",
    "grid_search.best_estimator_"
   ]
  },
  {
   "cell_type": "code",
   "execution_count": null,
   "metadata": {},
   "outputs": [],
   "source": [
    "df_X.head(1)"
   ]
  },
  {
   "cell_type": "code",
   "execution_count": null,
   "metadata": {},
   "outputs": [],
   "source": [
    "#랜덤포레스트 모형에서 가장 기여도 큰 변수 -> 소비자물가지수\n",
    "feature_importances = grid_search.best_estimator_.feature_importances_\n",
    "print(range(len(feature_importances)), feature_importances)"
   ]
  },
  {
   "cell_type": "code",
   "execution_count": null,
   "metadata": {},
   "outputs": [],
   "source": [
    "from sklearn.model_selection import RandomizedSearchCV\n",
    "from scipy.stats import randint\n",
    "param_distribs = {\n",
    " 'n_estimators': randint(low=1, high=100), \n",
    " 'max_features': randint(low=1, high=8), \n",
    " }\n",
    "forest_reg = RandomForestRegressor(random_state=0, n_jobs=-1)\n",
    "rnd_search = RandomizedSearchCV(forest_reg, param_distributions=param_distribs, cv=5, random_state=0)\n",
    "rnd_search.fit(X_train, y_train)"
   ]
  },
  {
   "cell_type": "code",
   "execution_count": null,
   "metadata": {},
   "outputs": [],
   "source": [
    "cvres = rnd_search.cv_results_\n",
    "for mean_score, params in zip(cvres[\"mean_test_score\"],\n",
    "cvres[\"params\"]):\n",
    " print(np.sqrt(mean_score), params)"
   ]
  },
  {
   "cell_type": "code",
   "execution_count": null,
   "metadata": {},
   "outputs": [],
   "source": [
    "#최적 모델\n",
    "rnd_search.best_estimator_"
   ]
  },
  {
   "cell_type": "code",
   "execution_count": null,
   "metadata": {},
   "outputs": [],
   "source": [
    "#최종 오차 는 191.45 평당 가격 \n",
    "final_model = rnd_search.best_estimator_\n",
    "y_pred = final_model.predict(X_test)\n",
    "rms = np.sqrt(mean_squared_error(y_test, y_pred))\n",
    "print(rms) "
   ]
  },
  {
   "cell_type": "code",
   "execution_count": null,
   "metadata": {},
   "outputs": [],
   "source": [
    "'''서포트벡터머신  -> 시간 너무 걸림 (에러 발생)\n",
    "from sklearn.svm import SVR\n",
    "svm_reg = SVR(kernel=\"linear\")\n",
    "svm_reg.fit(X_train, y_train)\n",
    "y_pred = svm_reg.predict(X_test)\n",
    "rms = np.sqrt(mean_squared_error(y_test, y_pred))\n",
    " # 스케일링(StandardScaler)\n",
    "from sklearn.preprocessing import StandardScaler\n",
    "scaler = StandardScaler() \n",
    "df2 = scaler.fit_transform(df1) \n",
    "df3 = pd.DataFrame(df2,columns=df1.columns)\n",
    "df3.boxplot()print(rms)'''"
   ]
  },
  {
   "attachments": {},
   "cell_type": "markdown",
   "metadata": {},
   "source": [
    "##  스케일링 후 VIF 값 산출 "
   ]
  },
  {
   "cell_type": "code",
   "execution_count": null,
   "metadata": {},
   "outputs": [],
   "source": [
    " # 스케일링(StandardScaler)\n",
    "from sklearn.preprocessing import StandardScaler\n",
    "scaler = StandardScaler() \n",
    "df_S = scaler.fit_transform(df1) \n",
    "df_S1= pd.DataFrame(df_S,columns=df1.columns)\n",
    "df_S1.boxplot()"
   ]
  },
  {
   "cell_type": "code",
   "execution_count": null,
   "metadata": {},
   "outputs": [],
   "source": [
    "## 스케일 후 16개 변수 VIF 산출\n",
    "from statsmodels.stats.outliers_influence import variance_inflation_factor  \n",
    "\n",
    "vif = pd.DataFrame()\n",
    "vif['VIF']=[variance_inflation_factor(df_S1.values, i) for i in range(df_S1.shape[1])]\n",
    "vif['독립변수'] = df_S1.columns\n",
    "vif =vif.sort_values('VIF').reset_index(drop=True)\n",
    "vif "
   ]
  },
  {
   "cell_type": "code",
   "execution_count": null,
   "metadata": {},
   "outputs": [],
   "source": [
    "# 스케일링 (RobustScaler)\n",
    "from sklearn.preprocessing import RobustScaler\n",
    "scaler = RobustScaler() \n",
    "df_R = scaler.fit_transform(df1) \n",
    "df_R1 = pd.DataFrame(df_R,columns=df1.columns)\n",
    "df_R1.boxplot()"
   ]
  },
  {
   "cell_type": "code",
   "execution_count": null,
   "metadata": {},
   "outputs": [],
   "source": [
    "## 16개 변수 VIF 산출\n",
    "from statsmodels.stats.outliers_influence import variance_inflation_factor  \n",
    "\n",
    "vif = pd.DataFrame()\n",
    "vif['VIF']=[variance_inflation_factor(df_R1.values, i) for i in range(df_R1.shape[1])]\n",
    "vif['독립변수'] = df_R1.columns\n",
    "vif =vif.sort_values('VIF').reset_index(drop=True)\n",
    "vif "
   ]
  }
 ],
 "metadata": {
  "kernelspec": {
   "display_name": "base",
   "language": "python",
   "name": "python3"
  },
  "language_info": {
   "codemirror_mode": {
    "name": "ipython",
    "version": 3
   },
   "file_extension": ".py",
   "mimetype": "text/x-python",
   "name": "python",
   "nbconvert_exporter": "python",
   "pygments_lexer": "ipython3",
   "version": "3.9.13"
  },
  "orig_nbformat": 4
 },
 "nbformat": 4,
 "nbformat_minor": 2
}
